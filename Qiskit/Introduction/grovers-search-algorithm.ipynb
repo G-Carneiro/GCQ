{
 "cells": [
  {
   "cell_type": "markdown",
   "metadata": {
    "collapsed": true,
    "pycharm": {
     "name": "#%% md\n"
    }
   },
   "source": [
    "# Grovers search algorithm\n",
    "---\n",
    "\n",
    "## Search problems\n",
    "\n",
    "O algoritmo de Grover consegue fazer buscas crescendo quadraticamente, em vez de linearmente, em uma busca aleatória.\n",
    "\n",
    "---\n",
    "\n",
    "## Beyond black boxes\n",
    "\n",
    "## SAT problems\n",
    "\n",
    "## Overview of Grover's algorithm\n"
   ]
  }
 ],
 "metadata": {
  "kernelspec": {
   "display_name": "Python 3",
   "language": "python",
   "name": "python3"
  },
  "language_info": {
   "codemirror_mode": {
    "name": "ipython",
    "version": 2
   },
   "file_extension": ".py",
   "mimetype": "text/x-python",
   "name": "python",
   "nbconvert_exporter": "python",
   "pygments_lexer": "ipython2",
   "version": "2.7.6"
  }
 },
 "nbformat": 4,
 "nbformat_minor": 0
}