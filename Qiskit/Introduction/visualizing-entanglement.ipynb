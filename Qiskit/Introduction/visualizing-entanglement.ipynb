{
 "cells": [
  {
   "cell_type": "markdown",
   "metadata": {
    "collapsed": true,
    "pycharm": {
     "name": "#%% md\n"
    }
   },
   "source": [
    "# Visualizing Entanglement\n",
    "---\n",
    "\n",
    "Nos exercícios a seguir, usaremos uma visualização para dois estados de qubit. Vamos configurar um experimento famoso, provar singularidade da mecânica quântica através das desigualdades de Bell.\n",
    "- Linha vertical representa a probabilidade da medição `z`.\n",
    "- Linha horizontal representa a probabilidade da medição `x`.\n",
    "\n",
    "## Getting to know your qubit\n",
    "\n",
    "### Exercise 1: Flipping a Qubit"
   ]
  },
  {
   "cell_type": "code",
   "execution_count": 1,
   "outputs": [
    {
     "ename": "ModuleNotFoundError",
     "evalue": "No module named 'hello_qiskit'",
     "output_type": "error",
     "traceback": [
      "\u001B[0;31m---------------------------------------------------------------------------\u001B[0m",
      "\u001B[0;31mModuleNotFoundError\u001B[0m                       Traceback (most recent call last)",
      "\u001B[0;32m/tmp/ipykernel_39326/516391123.py\u001B[0m in \u001B[0;36m<module>\u001B[0;34m\u001B[0m\n\u001B[0;32m----> 1\u001B[0;31m \u001B[0;32mfrom\u001B[0m \u001B[0mhello_qiskit\u001B[0m \u001B[0;32mimport\u001B[0m \u001B[0mrun_puzzle\u001B[0m\u001B[0;34m\u001B[0m\u001B[0;34m\u001B[0m\u001B[0m\n\u001B[0m\u001B[1;32m      2\u001B[0m \u001B[0;34m\u001B[0m\u001B[0m\n\u001B[1;32m      3\u001B[0m \u001B[0mpuzzle\u001B[0m \u001B[0;34m=\u001B[0m \u001B[0mrun_puzzle\u001B[0m\u001B[0;34m(\u001B[0m\u001B[0;36m0\u001B[0m\u001B[0;34m)\u001B[0m\u001B[0;34m\u001B[0m\u001B[0;34m\u001B[0m\u001B[0m\n\u001B[1;32m      4\u001B[0m \u001B[0;34m\u001B[0m\u001B[0m\n",
      "\u001B[0;31mModuleNotFoundError\u001B[0m: No module named 'hello_qiskit'"
     ]
    }
   ],
   "source": [
    "from qiskit.hello_qiskit import run_puzzle\n",
    "\n",
    "puzzle = run_puzzle(0)"
   ],
   "metadata": {
    "collapsed": false,
    "pycharm": {
     "name": "#%%\n"
    }
   }
  },
  {
   "cell_type": "markdown",
   "source": [
    "- Importação não está funcionando. Acessar [Qiskit](https://learn.qiskit.org/course/introduction/visualizing-entanglement).\n",
    "\n",
    "### Exercise 2: Swapping the Axes\n",
    "\n",
    "\\begin{matrix}\n",
    "    H|0\\rangle = |+\\rangle, & H|1\\rangle = |-\\rangle \\\\\n",
    "    H|+\\rangle = |0\\rangle, & H|-\\rangle = |1\\rangle\n",
    "\\end{matrix}\n",
    "\n",
    "### Exercise 3: A Rotation\n",
    "\n",
    "Ao rotacionarmos em torno do eixo $y$ na esfera de Bloch, usando a porta `ry(pi/4)`, os resultados não são tão simples de entender.\n",
    "\n",
    "Para isso, primeiro vamos colocar as duas linhas uma sobre a outra e adicionar um ponto onde seus níveis se cruzam, isso está relacionado a um conceito da esfera de Bloch.\n",
    "- Usar comando `Bloch` para fazer isso acontecer.\n",
    "- Cada vez que a porta `ry(pi/4)` é aplicada o ponto se desloca em $\\frac{\\pi}{4}$ graus.\n",
    "\n",
    "### Exercise 4: A Second Qubit\n",
    "\n",
    "### Exercise 5: Two Qubits at Once\n",
    "\n",
    "Para visualizar dois qubits, precisamos analisar mais informações. Para isso quatro novas linhas são necessárias.\n",
    "\n",
    "- Inferior: $p(|01\\rangle) + p(|10\\rangle)$.\n",
    "    - Probabilidade de que os qubits forneçam resultados diferentes para uma medição `z` de ambos.\n",
    "- Superior: o mesmo da inferior, mas para medição `x`.\n",
    "- As outras linhas também representam as probabilidades dos resultados serem diferentes, mas para a medição `z` em um qubit e a medição `x` no outro.\n",
    "\n",
    "### Exercise 6: Entangling Qubits\n",
    "\n",
    "Como essas novas linhas representam correlações, são muito importante para descrever emaranhamento.\n",
    "- Existe ainda a medição `y`, para representá-la são necessárias ainda mais linhas, tornando a visualização complicada.\n",
    "    - Como são 3 medidas precisamos de uma visualização 3D, e por isso temos a esfera de Bloch.\n",
    "\n",
    "### Exercise 7: Sandbox\n",
    "\n",
    "Ótimo para testar os conceitos.\n",
    "\n",
    "---\n",
    "\n",
    "## Bell's Inequalities\n",
    "\n",
    "- Cada probabilidade não pode ser maior que a soma das outras.\n",
    "- Variáveis quânticas não podem ser copiadas.\n",
    "\n",
    "---"
   ],
   "metadata": {
    "collapsed": false,
    "pycharm": {
     "name": "#%% md\n"
    }
   }
  }
 ],
 "metadata": {
  "kernelspec": {
   "display_name": "Python 3",
   "language": "python",
   "name": "python3"
  },
  "language_info": {
   "codemirror_mode": {
    "name": "ipython",
    "version": 2
   },
   "file_extension": ".py",
   "mimetype": "text/x-python",
   "name": "python",
   "nbconvert_exporter": "python",
   "pygments_lexer": "ipython2",
   "version": "2.7.6"
  }
 },
 "nbformat": 4,
 "nbformat_minor": 0
}