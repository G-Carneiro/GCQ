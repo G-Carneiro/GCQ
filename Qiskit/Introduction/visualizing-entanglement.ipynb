{
 "cells": [
  {
   "cell_type": "markdown",
   "metadata": {
    "collapsed": true,
    "pycharm": {
     "name": "#%% md\n"
    }
   },
   "source": [
    "# Visualizing Entanglement\n",
    "---\n",
    "\n",
    "Nos exercícios a seguir, usaremos uma visualização para dois estados de qubit. Vamos configurar um experimento famoso, provar singularidade da mecânica quântica através das desigualdades de Bell.\n",
    "\n",
    "## Getting to know your qubit\n",
    "\n",
    "### Exercise 1: Flipping a Qubit"
   ]
  },
  {
   "cell_type": "code",
   "execution_count": 1,
   "outputs": [
    {
     "ename": "ModuleNotFoundError",
     "evalue": "No module named 'hello_qiskit'",
     "output_type": "error",
     "traceback": [
      "\u001B[0;31m---------------------------------------------------------------------------\u001B[0m",
      "\u001B[0;31mModuleNotFoundError\u001B[0m                       Traceback (most recent call last)",
      "\u001B[0;32m/tmp/ipykernel_24760/516391123.py\u001B[0m in \u001B[0;36m<module>\u001B[0;34m\u001B[0m\n\u001B[0;32m----> 1\u001B[0;31m \u001B[0;32mfrom\u001B[0m \u001B[0mhello_qiskit\u001B[0m \u001B[0;32mimport\u001B[0m \u001B[0mrun_puzzle\u001B[0m\u001B[0;34m\u001B[0m\u001B[0;34m\u001B[0m\u001B[0m\n\u001B[0m\u001B[1;32m      2\u001B[0m \u001B[0;34m\u001B[0m\u001B[0m\n\u001B[1;32m      3\u001B[0m \u001B[0mpuzzle\u001B[0m \u001B[0;34m=\u001B[0m \u001B[0mrun_puzzle\u001B[0m\u001B[0;34m(\u001B[0m\u001B[0;36m0\u001B[0m\u001B[0;34m)\u001B[0m\u001B[0;34m\u001B[0m\u001B[0;34m\u001B[0m\u001B[0m\n\u001B[1;32m      4\u001B[0m \u001B[0;34m\u001B[0m\u001B[0m\n",
      "\u001B[0;31mModuleNotFoundError\u001B[0m: No module named 'hello_qiskit'"
     ]
    }
   ],
   "source": [
    "from hello_qiskit import run_puzzle\n",
    "\n",
    "puzzle = run_puzzle(0)"
   ],
   "metadata": {
    "collapsed": false,
    "pycharm": {
     "name": "#%%\n"
    }
   }
  },
  {
   "cell_type": "markdown",
   "source": [
    "- Importação não está funcionando. Acessar [Qiskit](https://learn.qiskit.org/course/introduction/visualizing-entanglement).\n",
    "\n",
    "### Exercise 2: Swapping the Axes\n",
    "\n",
    "\\begin{matrix}\n",
    "    H|0\\rangle = |+\\rangle, & H|1\\rangle = |-\\rangle \\\\\n",
    "    H|+\\rangle = |0\\rangle, & H|-\\rangle = |1\\rangle\n",
    "\\end{matrix}\n",
    "\n",
    "### Exercise 3: A Rotation\n"
   ],
   "metadata": {
    "collapsed": false,
    "pycharm": {
     "name": "#%% md\n"
    }
   }
  }
 ],
 "metadata": {
  "kernelspec": {
   "display_name": "Python 3",
   "language": "python",
   "name": "python3"
  },
  "language_info": {
   "codemirror_mode": {
    "name": "ipython",
    "version": 2
   },
   "file_extension": ".py",
   "mimetype": "text/x-python",
   "name": "python",
   "nbconvert_exporter": "python",
   "pygments_lexer": "ipython2",
   "version": "2.7.6"
  }
 },
 "nbformat": 4,
 "nbformat_minor": 0
}