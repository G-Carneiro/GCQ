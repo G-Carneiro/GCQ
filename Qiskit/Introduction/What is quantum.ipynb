{
 "cells": [
  {
   "cell_type": "markdown",
   "metadata": {
    "collapsed": true,
    "pycharm": {
     "name": "#%% md\n"
    }
   },
   "source": [
    "# What is quantum?\n",
    "---\n",
    "\n",
    "## What is a bit?\n",
    "\n",
    "- The ultraviolet catastrophe.\n",
    "    - Black body: é um corpo que possui emissão e radiação de luz, sem refleti-la.\n",
    "\n",
    "---\n",
    "\n",
    "## Exploring qubits\n",
    "\n",
    "- Hadamard gate: H-gate.\n",
    "    - Transforma um qubit em $|0\\rangle$ ou $|1 \\rangle$, com mesmas chances.\n",
    "    - Duas operações prababilísticas parecem desfazer uma à outra.\n",
    "\n",
    "---\n",
    "\n",
    "## Beyond probabilities\n",
    "\n",
    "- A probabilidade funciona muito bem para coisas ao nosso redor, porém o mesmo não ocorre para &#8220;coisas&#8221; quânticas (qubits).\n",
    "    - Solução: amplitudes de probabilidade.\n",
    "\n",
    "  [comment]: <> (Em português é amplitudes?)\n",
    "- Amplitudes: é similar a probabilidade normal em alguns pontos, mas com uma propriedade extra.\n",
    "    - Semelhanças:\n",
    "        - Possuem magnitude.\n",
    "        - Cada resultado possível tem uma amplitude de probabilidade.\n",
    "        - A magnitude do resultado diz a probabilidade do mesmo ocorrer.\n",
    "    - Phase: pode ser entendida como ângulo, logo amplitudes também possuem direção.\n",
    "        - Quando duas amplitudes se somam, uma pode cancelar a outra, isso é chamado de interferência (específico da mecânica quântica).\n",
    "        - Nunca a vemos diretamente, mas sabemos que ela existe por causa dos efeitos de interferência que produz.\n",
    "    - Mais especificamente, amplitude é um número complexo.\n",
    "\n",
    "<p align=\"center\">\n",
    "    <img src=\"https://learn.qiskit.org/content/intro/images/what-is/amp-vs-prob.svg\" />\n",
    "</p>\n",
    "\n",
    "<div align=\"center\", style=font-size:12px>\n",
    "Fonte:\n",
    "<a href=\"https://learn.qiskit.org/content/intro/images/what-is/amp-vs-prob.svg\">\n",
    "Qiskit\n",
    "</a>\n",
    "</div>\n",
    "\n",
    "### Explaining the H-gate\n",
    "\n",
    "- Como duas portas H em sequência apresentam resultados determinísticos, ela deve se comportar da mesma maneira para certa entrada.\n",
    "- Para obter a probabilidade elevamos ao quadrado a amplitude.\n",
    "    - Logo, para obter a amplitude tiramos a raiz da probabilidade.\n",
    "- Ao aplicarmos duas portas H em sequência em certo estado, o resultado é sempre ele próprio.\n",
    "    - Isso ocorre devido a fase, que fica negativa na árvore de amplitudes do estado $|1\\rangle$ para $|1\\rangle$.\n",
    "\n",
    "<p align=\"center\">\n",
    "    <img src=\"https://learn.qiskit.org/content/intro/images/what-is/carousel/0/4.svg\" />\n",
    "</p>\n",
    "\n",
    "<div align=\"center\", style=font-size:12px>\n",
    "Fonte:\n",
    "<a href=\"https://learn.qiskit.org/content/intro/images/what-is/carousel/0/4.svg\">\n",
    "Qiskit\n",
    "</a>\n",
    "</div>\n",
    "\n",
    "## Neatening things up\n",
    "\n",
    "- Usar árvores fica confuso e complexo rapidamente, para evitar o problema é comum usar vetores para rastrear as amplitudes de todas possibilidades.\n",
    "- Simular um computador quântico usando um tradicional é fácil somente para um pequeno número de qubits.\n",
    "- O limite para simular um circuito quântico difícil parece estar entre 30 e 40 qubits.\n",
    "\n",
    "---"
   ]
  }
 ],
 "metadata": {
  "kernelspec": {
   "display_name": "Python 3",
   "language": "python",
   "name": "python3"
  },
  "language_info": {
   "codemirror_mode": {
    "name": "ipython",
    "version": 2
   },
   "file_extension": ".py",
   "mimetype": "text/x-python",
   "name": "python",
   "nbconvert_exporter": "python",
   "pygments_lexer": "ipython2",
   "version": "2.7.6"
  }
 },
 "nbformat": 4,
 "nbformat_minor": 0
}