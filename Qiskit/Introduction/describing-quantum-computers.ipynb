{
 "cells": [
  {
   "cell_type": "markdown",
   "metadata": {
    "collapsed": true,
    "pycharm": {
     "name": "#%% md\n"
    }
   },
   "source": [
    "# Describing quantum computers\n",
    "---\n",
    "\n",
    "## Amplitudes\n",
    "\n",
    "- Representada por um número complexo, já que também pode ser descrito por uma magnitude e uma direção.\n",
    "\n",
    "---\n",
    "\n",
    "## Vetores de estado\n",
    "\n",
    "- Por que usar $|\\ \\rangle $ como referência a um vetor?\n",
    "\n",
    "---\n",
    "\n",
    "## Adicionando e multiplicando vetores\n",
    "\n",
    "- A adição de estados quânticos é chamada de de superposição.\n",
    "\n",
    "---\n",
    "\n",
    "## How many different state vectors are there?\n",
    "\n",
    "- Nem todos vetor é um estado quântico válido.\n",
    "- Precisamos que a soma das probabilidades de ocorrência de cada estado seja igual a 1.\n",
    "  $$ \\sum_{i=0}^{N-1} a_i^2 = 1 $$\n",
    "\n",
    "---\n",
    "\n",
    "## Quantum operations\n",
    "\n",
    "- Por que a matriz de transição é feita em colunas e não em linhas?\n",
    "\n",
    "---\n",
    "\n",
    "## Rules of quantum operations\n",
    "\n",
    "- Assim como nem todo vetor é um estado válido, nem toda matriz é uma operação válida.\n",
    "- As matrizes precisam ter a probabilidade total dos estados de saída igual a 1.\n",
    "    - Precisam ser reversíveis, ou seja, deve ser possível desfazer as operações.\n",
    "    - Unitárias.\n",
    "\n",
    "---\n",
    "\n",
    "\n"
   ]
  }
 ],
 "metadata": {
  "kernelspec": {
   "display_name": "Python 3",
   "language": "python",
   "name": "python3"
  },
  "language_info": {
   "codemirror_mode": {
    "name": "ipython",
    "version": 2
   },
   "file_extension": ".py",
   "mimetype": "text/x-python",
   "name": "python",
   "nbconvert_exporter": "python",
   "pygments_lexer": "ipython2",
   "version": "2.7.6"
  }
 },
 "nbformat": 4,
 "nbformat_minor": 0
}