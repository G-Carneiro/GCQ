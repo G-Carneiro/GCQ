{
 "cells": [
  {
   "cell_type": "markdown",
   "source": [
    "# Entangled states\n",
    "---\n",
    "\n",
    "## Product and entangled states\n",
    "\n",
    "### Product states\n",
    "\n",
    "Sejam,\n",
    "\n",
    "$$ |a\\rangle = \\begin{bmatrix} a_0 \\\\ a_1 \\end{bmatrix}, \\quad |b\\rangle = \\begin{bmatrix} b_0 \\\\ b_1 \\end{bmatrix}.$$\n",
    "\n",
    "Então o produto $ |ba\\rangle $ é\n",
    "\n",
    "$$ |ba\\rangle = \\begin{bmatrix} b_0a_0 \\\\ b_0a_1 \\\\ b_1a_0 \\\\ b_1a_1 \\end{bmatrix}.$$\n",
    "\n",
    "- Essas regras seguem a probabilidade padrão.\n",
    "- Para calcular a probabilidade do bit mais a direita devemos seguir os seguintes passos:\n",
    "\\begin{matrix}\n",
    "    p_{|a\\rangle}(|0\\rangle) &=& p(|00\\rangle) + p(|10\\rangle) \\\\\n",
    "    &=& (b_0a_0)^2 + (b_1a_0)^2 \\\\\n",
    "    &=& b_0^2 a_0^2 + b_1^2 a_0^2 \\\\\n",
    "    &=& (b_0^2 + b_1^2)\\cdot a_0^2 \\\\\n",
    "    &=& a_0^2\n",
    "\\end{matrix}\n",
    "\n",
    "### Entangled states\n",
    "\n",
    "- Estados emaranhados são aqueles onde não há pares de qubit únicos $|a\\rangle$ e $|b\\rangle$ que formem o produto.\n",
    "- Exemplo:\n",
    "    - $$ |\\Phi^+\\rangle = \\dfrac{1}{\\sqrt{2}} \\cdot \\begin{bmatrix} 1 \\\\ 0\\\\ 0\\\\ 1 \\end{bmatrix} = \\dfrac{1}{\\sqrt{2}}(|00\\rangle + |11\\rangle)$$\n",
    "\n",
    "---\n",
    "## Entangling gates\n",
    "\n",
    "- Para criar emaranhamento, precisamos de portas multi-qubit.\n",
    "\n",
    "### The cx gate\n",
    "\n",
    "Para começar vamos criar um estado $|00\\rangle$."
   ],
   "metadata": {
    "collapsed": false,
    "pycharm": {
     "name": "#%% md\n"
    }
   }
  },
  {
   "cell_type": "code",
   "execution_count": 1,
   "outputs": [
    {
     "data": {
      "text/plain": "<IPython.core.display.Latex object>",
      "text/latex": "$$\n\n\\begin{bmatrix}\n1 & 0 & 0 & 0  \\\\\n \\end{bmatrix}\n$$"
     },
     "execution_count": 1,
     "metadata": {},
     "output_type": "execute_result"
    }
   ],
   "source": [
    "from qiskit import QuantumCircuit\n",
    "from qiskit.quantum_info import Statevector\n",
    "\n",
    "qc = QuantumCircuit(2)\n",
    "\n",
    "# This calculates what the state vector of our qubits would be\n",
    "# after passing through the circuit 'qc'\n",
    "ket = Statevector(qc)\n",
    "\n",
    "# The code below writes down the state vector.\n",
    "# Since it's the last line in the cell, the cell will display it as output\n",
    "ket.draw('latex')"
   ],
   "metadata": {
    "collapsed": false,
    "pycharm": {
     "name": "#%%\n"
    }
   }
  },
  {
   "cell_type": "markdown",
   "source": [
    "Essa porta atua em dois qubit, conhecidos como controle e alvo.\n",
    "Vamos tentar usar o qubit 0 como controle e o 1 como alvo, para isso:"
   ],
   "metadata": {
    "collapsed": false,
    "pycharm": {
     "name": "#%% md\n"
    }
   }
  },
  {
   "cell_type": "code",
   "execution_count": 2,
   "outputs": [
    {
     "data": {
      "text/plain": "<IPython.core.display.Latex object>",
      "text/latex": "$$\n\n\\begin{bmatrix}\n1 & 0 & 0 & 0  \\\\\n \\end{bmatrix}\n$$"
     },
     "execution_count": 2,
     "metadata": {},
     "output_type": "execute_result"
    }
   ],
   "source": [
    "qc.cx(0,1)\n",
    "\n",
    "ket = Statevector(qc)\n",
    "ket.draw('latex')"
   ],
   "metadata": {
    "collapsed": false,
    "pycharm": {
     "name": "#%%\n"
    }
   }
  },
  {
   "cell_type": "markdown",
   "source": [
    "A porta não teve efeito, o estado permanece o mesmo.\n",
    "Vamos inverter o alvo com o controle."
   ],
   "metadata": {
    "collapsed": false,
    "pycharm": {
     "name": "#%% md\n"
    }
   }
  },
  {
   "cell_type": "code",
   "execution_count": 3,
   "outputs": [
    {
     "data": {
      "text/plain": "<IPython.core.display.Latex object>",
      "text/latex": "$$\n\n\\begin{bmatrix}\n1 & 0 & 0 & 0  \\\\\n \\end{bmatrix}\n$$"
     },
     "execution_count": 3,
     "metadata": {},
     "output_type": "execute_result"
    }
   ],
   "source": [
    "qc.cx(1,0)\n",
    "\n",
    "ket = Statevector(qc)\n",
    "ket.draw('latex')"
   ],
   "metadata": {
    "collapsed": false,
    "pycharm": {
     "name": "#%%\n"
    }
   }
  },
  {
   "cell_type": "markdown",
   "source": [
    "Ainda sem efeito. Isso era o esperado. Se o controle está no estado $|0\\rangle$ a porta `cx` não faz nada. Caso o controle seja $|1\\rangle$, `cx` insere uma porta `x` no alvo.\n",
    "\n",
    "<p align=\"center\">\n",
    "    <img src=\"https://learn.qiskit.org/content/intro/images/multi-qubit/cnot.svg\" />\n",
    "</p>\n",
    "\n",
    "<div align=\"center\", style=font-size:12px>\n",
    "Fonte:\n",
    "<a href=\"https://learn.qiskit.org/content/intro/images/what-is/amp-vs-prob.svg\">\n",
    "Qiskit\n",
    "</a>\n",
    "</div>\n",
    "\n",
    "Então, se quisermos que `cx` funcione, precisamos inverter o qubit de controle para $|1\\rangle$."
   ],
   "metadata": {
    "collapsed": false,
    "pycharm": {
     "name": "#%% md\n"
    }
   }
  },
  {
   "cell_type": "code",
   "execution_count": 4,
   "outputs": [
    {
     "data": {
      "text/plain": "<IPython.core.display.Latex object>",
      "text/latex": "$$\n\n\\begin{bmatrix}\n0 & 0 & 1 & 0  \\\\\n \\end{bmatrix}\n$$"
     },
     "execution_count": 4,
     "metadata": {},
     "output_type": "execute_result"
    }
   ],
   "source": [
    "qc.x(1,0)\n",
    "\n",
    "ket = Statevector(qc)\n",
    "ket.draw('latex')"
   ],
   "metadata": {
    "collapsed": false,
    "pycharm": {
     "name": "#%%\n"
    }
   }
  },
  {
   "cell_type": "markdown",
   "source": [
    "Agora ao executar `cx` também inverterá o qubit alvo."
   ],
   "metadata": {
    "collapsed": false,
    "pycharm": {
     "name": "#%% md\n"
    }
   }
  },
  {
   "cell_type": "code",
   "execution_count": 5,
   "outputs": [
    {
     "data": {
      "text/plain": "<IPython.core.display.Latex object>",
      "text/latex": "$$\n\n\\begin{bmatrix}\n0 & 0 & 0 & 1  \\\\\n \\end{bmatrix}\n$$"
     },
     "execution_count": 5,
     "metadata": {},
     "output_type": "execute_result"
    }
   ],
   "source": [
    "qc.cx(1,0)\n",
    "\n",
    "ket = Statevector(qc)\n",
    "ket.draw('latex')"
   ],
   "metadata": {
    "collapsed": false,
    "pycharm": {
     "name": "#%%\n"
    }
   }
  },
  {
   "cell_type": "markdown",
   "source": [
    "Ainda não possuímos um emaranhamento. Para isso precisamos que o qubit de controle esteja em um estado de superposição, como $|\\!+\\!0\\rangle$."
   ],
   "metadata": {
    "collapsed": false,
    "pycharm": {
     "name": "#%% md\n"
    }
   }
  },
  {
   "cell_type": "code",
   "execution_count": 6,
   "outputs": [
    {
     "data": {
      "text/plain": "<IPython.core.display.Latex object>",
      "text/latex": "$$\n\n\\begin{bmatrix}\n\\tfrac{1}{\\sqrt{2}} & 0 & \\tfrac{1}{\\sqrt{2}} & 0  \\\\\n \\end{bmatrix}\n$$"
     },
     "execution_count": 6,
     "metadata": {},
     "output_type": "execute_result"
    }
   ],
   "source": [
    "# Let's create a fresh quantum circuit\n",
    "qc = QuantumCircuit(2)\n",
    "\n",
    "qc.h(1)\n",
    "\n",
    "ket = Statevector(qc)\n",
    "ket.draw('latex')"
   ],
   "metadata": {
    "collapsed": false,
    "pycharm": {
     "name": "#%%\n"
    }
   }
  },
  {
   "cell_type": "markdown",
   "source": [
    "Se aplicarmos `cx` agora, atuará em paralelo nos dois estados, $|00\\rangle$ e $|10\\rangle$."
   ],
   "metadata": {
    "collapsed": false,
    "pycharm": {
     "name": "#%% md\n"
    }
   }
  },
  {
   "cell_type": "code",
   "execution_count": 7,
   "outputs": [
    {
     "data": {
      "text/plain": "<IPython.core.display.Latex object>",
      "text/latex": "$$\n\n\\begin{bmatrix}\n\\tfrac{1}{\\sqrt{2}} & 0 & 0 & \\tfrac{1}{\\sqrt{2}}  \\\\\n \\end{bmatrix}\n$$"
     },
     "execution_count": 7,
     "metadata": {},
     "output_type": "execute_result"
    }
   ],
   "source": [
    "qc.cx(1,0)\n",
    "\n",
    "ket = Statevector(qc)\n",
    "ket.draw('latex')"
   ],
   "metadata": {
    "collapsed": false,
    "pycharm": {
     "name": "#%%\n"
    }
   }
  },
  {
   "cell_type": "markdown",
   "source": [
    "O resultado é $|\\Phi^+\\rangle$, um estado emaranhado.\n",
    "\n",
    "### The cz gate\n",
    "\n",
    "Seu efeito é semelhante ao `cx`, atuando em um qubit alvo e outro de controle, não fazendo nada quando o qubit de controle está no estado $|0\\rangle$. Mas quando o qubit de controle está em $|1\\rangle$, executa um `z` no alvo.\n",
    "\n",
    "Essa é a interpretação padrão. A porta `z` aplicado a somente um qubit não faz nada para $|0\\rangle$, mas fornece uma fase de $-1$ para o estado $|1\\rangle$. Então, a porta `cz` só tem efeito quando ambos os qubits estão no estado $|1\\rangle$.\n",
    "\n",
    "### The cx gate revisited\n",
    "\n",
    "Outras interpretações são possíveis para essa porta. Por exemplo, no caso em ambos os qubits estão no estado $|+\\rangle$."
   ],
   "metadata": {
    "collapsed": false,
    "pycharm": {
     "name": "#%% md\n"
    }
   }
  },
  {
   "cell_type": "code",
   "execution_count": 8,
   "outputs": [
    {
     "data": {
      "text/plain": "<IPython.core.display.Latex object>",
      "text/latex": "$$\n\n\\begin{bmatrix}\n\\tfrac{1}{2} & \\tfrac{1}{2} & \\tfrac{1}{2} & \\tfrac{1}{2}  \\\\\n \\end{bmatrix}\n$$"
     },
     "execution_count": 8,
     "metadata": {},
     "output_type": "execute_result"
    }
   ],
   "source": [
    "qc = QuantumCircuit(2)\n",
    "\n",
    "qc.h(0)\n",
    "qc.h(1)\n",
    "\n",
    "ket = Statevector(qc)\n",
    "ket.draw('latex')"
   ],
   "metadata": {
    "collapsed": false,
    "pycharm": {
     "name": "#%%\n"
    }
   }
  },
  {
   "cell_type": "markdown",
   "source": [
    "Descobriremos que `cx` não tem efeito, não importa em qual direção."
   ],
   "metadata": {
    "collapsed": false,
    "pycharm": {
     "name": "#%% md\n"
    }
   }
  },
  {
   "cell_type": "code",
   "execution_count": 9,
   "outputs": [
    {
     "data": {
      "text/plain": "<IPython.core.display.Latex object>",
      "text/latex": "$$\n\n\\begin{bmatrix}\n\\tfrac{1}{2} & \\tfrac{1}{2} & \\tfrac{1}{2} & \\tfrac{1}{2}  \\\\\n \\end{bmatrix}\n$$"
     },
     "execution_count": 9,
     "metadata": {},
     "output_type": "execute_result"
    }
   ],
   "source": [
    "qc.cx(1,0)\n",
    "\n",
    "ket = Statevector(qc)\n",
    "ket.draw('latex')"
   ],
   "metadata": {
    "collapsed": false,
    "pycharm": {
     "name": "#%%\n"
    }
   }
  },
  {
   "cell_type": "markdown",
   "source": [
    "Agora, vamos inverter o qubit alvo para $|-\\rangle$."
   ],
   "metadata": {
    "collapsed": false,
    "pycharm": {
     "name": "#%% md\n"
    }
   }
  },
  {
   "cell_type": "code",
   "execution_count": 10,
   "outputs": [
    {
     "data": {
      "text/plain": "<IPython.core.display.Latex object>",
      "text/latex": "$$\n\n\\begin{bmatrix}\n\\tfrac{1}{2} & -\\tfrac{1}{2} & \\tfrac{1}{2} & -\\tfrac{1}{2}  \\\\\n \\end{bmatrix}\n$$"
     },
     "execution_count": 10,
     "metadata": {},
     "output_type": "execute_result"
    }
   ],
   "source": [
    "qc.z(0)\n",
    "\n",
    "ket = Statevector(qc)\n",
    "ket.draw('latex')"
   ],
   "metadata": {
    "collapsed": false,
    "pycharm": {
     "name": "#%%\n"
    }
   }
  },
  {
   "cell_type": "markdown",
   "source": [
    "Ao aplicarmos `cx` agora, teremos um efeito. Ele vira o qubit de controle para $|-\\rangle$ também."
   ],
   "metadata": {
    "collapsed": false,
    "pycharm": {
     "name": "#%% md\n"
    }
   }
  },
  {
   "cell_type": "code",
   "execution_count": 11,
   "outputs": [
    {
     "data": {
      "text/plain": "<IPython.core.display.Latex object>",
      "text/latex": "$$\n\n\\begin{bmatrix}\n\\tfrac{1}{2} & -\\tfrac{1}{2} & -\\tfrac{1}{2} & \\tfrac{1}{2}  \\\\\n \\end{bmatrix}\n$$"
     },
     "execution_count": 11,
     "metadata": {},
     "output_type": "execute_result"
    }
   ],
   "source": [
    "qc.cx(1,0)\n",
    "\n",
    "ket = Statevector(qc)\n",
    "ket.draw('latex')"
   ],
   "metadata": {
    "collapsed": false,
    "pycharm": {
     "name": "#%%\n"
    }
   }
  },
  {
   "cell_type": "markdown",
   "source": [
    "Esse efeito é conhecido como retrocesso de fase, quando há uma superposição nos qubits de controle e de destino, alguns recursos da superposição de destino podem realimentar o controle.\n",
    "\n",
    "Também pode nos fornecer uma versão alternativa da porta `cx`. Podemos pensar nisso como aplicar um `z` ao controle se o alvo estiver no estado $|-\\rangle$ e não fazer nada caso esteja em $|+\\rangle$.\n",
    "\n",
    "---\n",
    "\n",
    "## Entangled states and simulation\n",
    "\n",
    "Para descrever completamento o estado de $n$ qubits, temos que ser capazes de acompanhar $2^n$ amplitudes. Um laptop moderno pode controlar tranquilamente $2^{20}$ amplitudes, mas para $2^{100}$ amplitudes mesmo supercomputadores teriam dificuldade.\n",
    "\n",
    "Mas há uma forma mais inteligente de fazer isso. Suponha que comecemos de um estado de produto, logo cada qubit pode ser descrito independentemente por um único estado de qubit com duas amplitudes.\n",
    "\n",
    "Suponha que executemos um circuito com apenas portas de qubit simples. Essas manipulações podem ser facilmente descritas modificando os estados de qubit único, o que significa fazer alterações nos pares específicos de amplitudes afetadas. Então, para cada qubit medido, a probabilidade é determinada por suas respectivas amplitudes.\n",
    "\n",
    "Durante todo processo, os estados permaneceram como estados produtos, ou seja, nunca houve um $n$-qubit verdadeiro, mas sim $n$ cálculos separados de qubit único. Isso torna possível acompanhar de forma gerenciável 2$n$ amplitudes. Nesses casos, é possível simular milhares de qubits de forma fácil até mesmo para celulares.\n",
    "\n",
    "Algoritmos quânticos úteis precisam ser capazes de fazer coisas que os computadores clássicos não possam simular, ou seja, devem evitar funcionar de forma que truques como esse sejam possíveis. Devem usar estados para os quais $2^n$ amplitudes sejam necessárias, envolvendo mais do que os estados do produto. Logo, como qualquer coisa que não seja um produto de estado é um estado emaranhado, o emaranhamento é essencial para qualquer vantagem quântica.\n",
    "\n",
    "---\n",
    "\n",
    "## Qubits working together: Superdense coding\n",
    "\n",
    "Para a comunicação clássica, há um limite para a quantidade de informações que podemos enviar com um certo número de bits. Não podemos enviar mais do que $n$ bits de informação quando enviamos $n$ bits. Para a comunicação quântica essa mesma regra se aplica. Mas existem maneiras de ultrapassar os limites para fazer coisas não são possíveis da forma clássica, usando emaranhamento. Veremos um exemplo no qual a transferência de um qubit permite o envio de uma mensagem com dois bits.\n",
    "\n",
    "Suponha que Alice deseja enviar uma mensagem de dois bits para Bob, através do envio de qubits.\n",
    "\n",
    "A maneira mais simples pe usando dois qubits. Simplesmente usando os qubits para codificarem os valores dos bits, aplicando um `x` quando necessário."
   ],
   "metadata": {
    "collapsed": false,
    "pycharm": {
     "name": "#%% md\n"
    }
   }
  },
  {
   "cell_type": "code",
   "execution_count": 12,
   "outputs": [],
   "source": [
    "# The message\n",
    "MESSAGE = '00'\n",
    "\n",
    "# Alice encodes the message\n",
    "qc_alice = QuantumCircuit(2, 2)\n",
    "if MESSAGE[-1]=='1':\n",
    "    qc_alice.x(0)\n",
    "if MESSAGE[-2]=='1':\n",
    "    qc_alice.x(1)"
   ],
   "metadata": {
    "collapsed": false,
    "pycharm": {
     "name": "#%%\n"
    }
   }
  },
  {
   "cell_type": "markdown",
   "source": [
    "Depois de enviar os qubits para Bob, tudo o que ele precisa fazer é medi-los."
   ],
   "metadata": {
    "collapsed": false,
    "pycharm": {
     "name": "#%% md\n"
    }
   }
  },
  {
   "cell_type": "code",
   "execution_count": 13,
   "outputs": [
    {
     "data": {
      "text/plain": "{'00': 1024}"
     },
     "execution_count": 13,
     "metadata": {},
     "output_type": "execute_result"
    }
   ],
   "source": [
    "from qiskit import Aer\n",
    "backend = Aer.get_backend('aer_simulator')\n",
    "\n",
    "# Bob measures\n",
    "qc_bob = QuantumCircuit(2,2)\n",
    "qc_bob.measure([0,1],[0,1])\n",
    "\n",
    "backend.run(qc_alice.compose(qc_bob)).result().get_counts()"
   ],
   "metadata": {
    "collapsed": false,
    "pycharm": {
     "name": "#%%\n"
    }
   }
  },
  {
   "cell_type": "markdown",
   "source": [
    "Bob vai obter o mesmo resultado que Alice colocou.\n",
    "\n",
    "Esse protocolo não usou emaranhamento. Uma forma de inseri-lo seria Alice adicionar as portas `h` e `cx` após codificar as informações. Como segue."
   ],
   "metadata": {
    "collapsed": false,
    "pycharm": {
     "name": "#%% md\n"
    }
   }
  },
  {
   "cell_type": "code",
   "execution_count": 14,
   "outputs": [
    {
     "data": {
      "text/plain": "<IPython.core.display.Latex object>",
      "text/latex": "$$\n\n\\begin{bmatrix}\n\\tfrac{1}{\\sqrt{2}} & 0 & 0 & \\tfrac{1}{\\sqrt{2}}  \\\\\n \\end{bmatrix}\n$$"
     },
     "execution_count": 14,
     "metadata": {},
     "output_type": "execute_result"
    }
   ],
   "source": [
    "MESSAGE = '00'\n",
    "\n",
    "qc_alice = QuantumCircuit(2,2)\n",
    "\n",
    "# Alice encodes the message\n",
    "if MESSAGE[-1]=='1':\n",
    "    qc_alice.x(0)\n",
    "if MESSAGE[-2]=='1':\n",
    "    qc_alice.x(1)\n",
    "\n",
    "# then she creates entangled states\n",
    "qc_alice.h(1)\n",
    "qc_alice.cx(1,0)\n",
    "\n",
    "ket = Statevector(qc_alice)\n",
    "ket.draw('latex')"
   ],
   "metadata": {
    "collapsed": false,
    "pycharm": {
     "name": "#%%\n"
    }
   }
  },
  {
   "cell_type": "markdown",
   "source": [
    "Para a mensagem $00$, o estado criado por essas portas é $|\\Phi^+\\rangle$. Para as outras combinações de mensagem obtemos outros estados emaranhados famosos.\n",
    "\n",
    "\\begin{matrix}\n",
    "00 \\to |\\Phi^+\\rangle &=& \\dfrac{1}{\\sqrt{2}}(|00\\rangle + |11\\rangle) \\\\\n",
    "01 \\to |\\Psi^+\\rangle &=& \\dfrac{1}{\\sqrt{2}}(|01\\rangle + |10\\rangle) \\\\\n",
    "10 \\to |\\Phi^-\\rangle &=& \\dfrac{1}{\\sqrt{2}}(|00\\rangle - |11\\rangle) \\\\\n",
    "11 \\to |\\Psi^-\\rangle &=& \\dfrac{1}{\\sqrt{2}}(|01\\rangle - |10\\rangle) \\\\\n",
    "\\end{matrix}\n",
    "\n",
    "- Qiskit mostra outra tabela de estados emaranhados. $11 \\to |\\Psi^+\\rangle$.\n",
    "\n",
    "Quando Bob recebe esses estados, ele precisa desemaranhá-los, desfazendo as portas `h` e `cx`. Para então recuperar a mensagem."
   ],
   "metadata": {
    "collapsed": false,
    "pycharm": {
     "name": "#%% md\n"
    }
   }
  },
  {
   "cell_type": "code",
   "execution_count": 19,
   "outputs": [
    {
     "data": {
      "text/plain": "{'00': 1024}"
     },
     "execution_count": 19,
     "metadata": {},
     "output_type": "execute_result"
    }
   ],
   "source": [
    "qc_bob = QuantumCircuit(2,2)\n",
    "# Bob unentangles\n",
    "qc_bob.cx(0,1)\n",
    "qc_bob.h(0)\n",
    "# Then measures\n",
    "qc_bob.measure([0,1],[0,1])\n",
    "\n",
    "backend.run(qc_alice.compose(qc_bob)).result().get_counts()"
   ],
   "metadata": {
    "collapsed": false,
    "pycharm": {
     "name": "#%%\n"
    }
   }
  },
  {
   "cell_type": "markdown",
   "source": [
    "Agora usamos estados emaranhados, mas não deram alguma vantagem. Para isso, precisamos examinar a relação entre esses estados emaranhados.\n",
    "\n",
    "O estado $|\\Phi^+\\rangle$ é uma superposição de $|00\\rangle$ e $|11\\rangle$, enquanto $|\\Psi^+$ é de $|01\\rangle$ e $|10\\rangle$. Logo, uma porta `x`é suficiente para transformar um em outro. O mesmo ocorre para $|\\Phi^-\\rangle$ e $|\\Psi^-\\rangle$. Da mesma forma, a diferença entre $|\\Phi^+\\rangle$ e $|\\Phi^-\\rangle$ é somente a fase relativa, a qual pode ser alterada por uma porta `z` em qualquer qubit, o mesmo ocorre para $|\\Psi^+\\rangle$ e $|\\Psi^-\\rangle$.\n",
    "\n",
    "Alice poderia enviar sua mensagem criando primeiro um estado emaranhado e alterá-lo com portas `x` e `z` para codificar a mensagem correta."
   ],
   "metadata": {
    "collapsed": false,
    "pycharm": {
     "name": "#%% md\n"
    }
   }
  },
  {
   "cell_type": "code",
   "execution_count": 20,
   "outputs": [
    {
     "data": {
      "text/plain": "<IPython.core.display.Latex object>",
      "text/latex": "$$\n\n\\begin{bmatrix}\n\\tfrac{1}{\\sqrt{2}} & 0 & 0 & \\tfrac{1}{\\sqrt{2}}  \\\\\n \\end{bmatrix}\n$$"
     },
     "execution_count": 20,
     "metadata": {},
     "output_type": "execute_result"
    }
   ],
   "source": [
    "MESSAGE = '00'\n",
    "\n",
    "qc_alice = QuantumCircuit(2,2)\n",
    "qc_alice.h(1)\n",
    "qc_alice.cx(1,0)\n",
    "\n",
    "if MESSAGE[-2]=='1':\n",
    "    qc_alice.x(1)\n",
    "if MESSAGE[-1]=='1':\n",
    "    qc_alice.z(1)\n",
    "\n",
    "ket = Statevector(qc_alice)\n",
    "ket.draw('latex')"
   ],
   "metadata": {
    "collapsed": false,
    "pycharm": {
     "name": "#%%\n"
    }
   }
  },
  {
   "cell_type": "markdown",
   "source": [
    "Como Bob está recebendo os mesmo estados de antes, ele não precisa alterar seu circuito."
   ],
   "metadata": {
    "collapsed": false,
    "pycharm": {
     "name": "#%% md\n"
    }
   }
  },
  {
   "cell_type": "code",
   "execution_count": 21,
   "outputs": [
    {
     "data": {
      "text/plain": "{'00': 1024}"
     },
     "execution_count": 21,
     "metadata": {},
     "output_type": "execute_result"
    }
   ],
   "source": [
    "backend.run(qc_alice.compose(qc_bob)).result().get_counts()"
   ],
   "metadata": {
    "collapsed": false,
    "pycharm": {
     "name": "#%%\n"
    }
   }
  },
  {
   "cell_type": "markdown",
   "source": [
    "As portas `x` e `z` podem ser aplicadas a apenas um qubit (qubit 1 nesse caso). Alice poderia enviar o qubit 0 assim que tivesse criado o par emaranhado. Na verdade, ela poderia enviá-lo antes de saber a mensagem que deseja enviar.\n",
    "\n",
    "Isso fica ainda mais impressionante quando imaginamos uma terceira pessoa, que apenas cria $|\\Phi^+\\rangle$ estados e envia os qubits."
   ],
   "metadata": {
    "collapsed": false,
    "pycharm": {
     "name": "#%% md\n"
    }
   }
  },
  {
   "cell_type": "code",
   "execution_count": 22,
   "outputs": [],
   "source": [
    "qc_charlie = QuantumCircuit(2,2)\n",
    "\n",
    "qc_charlie.h(1)\n",
    "qc_charlie.cx(1,0);"
   ],
   "metadata": {
    "collapsed": false,
    "pycharm": {
     "name": "#%%\n"
    }
   }
  },
  {
   "cell_type": "markdown",
   "source": [
    "Esse terceiro pode enviar diretamente um qubit para Bob e o outro para Alice. Alice pode codificar a mensagem de dois qubit manipulando apenas o qubit que recebeu e enviá-lo para Bob.\n",
    "\n",
    "<p align=\"center\">\n",
    "    <img src=\"https://learn.qiskit.org/content/intro/images/multi-qubit/superdense.jpg\" />\n",
    "</p>\n",
    "\n",
    "<div align=\"center\", style=font-size:12px>\n",
    "Fonte:\n",
    "<a href=\"https://learn.qiskit.org/content/intro/images/multi-qubit/superdense.jpg\">\n",
    "Qiskit\n",
    "</a>\n",
    "</div>"
   ],
   "metadata": {
    "collapsed": false,
    "pycharm": {
     "name": "#%% md\n"
    }
   }
  },
  {
   "cell_type": "code",
   "execution_count": 23,
   "outputs": [],
   "source": [
    "MESSAGE = '01'\n",
    "\n",
    "qc_alice = QuantumCircuit(2,2)\n",
    "\n",
    "if MESSAGE[-2]=='1':\n",
    "    qc_alice.x(1)\n",
    "if MESSAGE[-1]=='1':\n",
    "    qc_alice.z(1)"
   ],
   "metadata": {
    "collapsed": false,
    "pycharm": {
     "name": "#%%\n"
    }
   }
  },
  {
   "cell_type": "markdown",
   "source": [
    "Agora Bob pode aplicar o mesmo processo anterior e extrair a mensagem."
   ],
   "metadata": {
    "collapsed": false,
    "pycharm": {
     "name": "#%% md\n"
    }
   }
  },
  {
   "cell_type": "code",
   "execution_count": 24,
   "outputs": [
    {
     "data": {
      "text/plain": "{'01': 1024}"
     },
     "execution_count": 24,
     "metadata": {},
     "output_type": "execute_result"
    }
   ],
   "source": [
    "complete_qc = qc_charlie.compose(qc_alice.compose(qc_bob))\n",
    "backend.run(complete_qc).result().get_counts()"
   ],
   "metadata": {
    "collapsed": false,
    "pycharm": {
     "name": "#%%\n"
    }
   }
  },
  {
   "cell_type": "markdown",
   "source": [
    "O resultado final é que Alice enviou dois bits de informação para Bob, mas só precisou enviar um qubit para isso. Foi possível pois o qubit era parte de um par emaranhado. Enquanto Alice aplicava portas a um qubit, ela estava manipulando o conjunto maior de quatro pares emaranhados do qual fazia parte.\n",
    "\n",
    "---\n",
    "\n",
    "## Unique correlations: The Hardy paradox\n"
   ],
   "metadata": {
    "collapsed": false,
    "pycharm": {
     "name": "#%% md\n"
    }
   }
  }
 ],
 "metadata": {
  "kernelspec": {
   "display_name": "Python 3",
   "language": "python",
   "name": "python3"
  },
  "language_info": {
   "codemirror_mode": {
    "name": "ipython",
    "version": 2
   },
   "file_extension": ".py",
   "mimetype": "text/x-python",
   "name": "python",
   "nbconvert_exporter": "python",
   "pygments_lexer": "ipython2",
   "version": "2.7.6"
  }
 },
 "nbformat": 4,
 "nbformat_minor": 0
}