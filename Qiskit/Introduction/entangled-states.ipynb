{
 "cells": [
  {
   "cell_type": "markdown",
   "source": [
    "# Entangled states\n",
    "---\n",
    "\n",
    "## Product and entangled states\n",
    "\n",
    "### Product states\n",
    "\n",
    "Sejam,\n",
    "\n",
    "$$ |a\\rangle = \\begin{bmatrix} a_0 \\\\ a_1 \\end{bmatrix}, \\quad |b\\rangle = \\begin{bmatrix} b_0 \\\\ b_1 \\end{bmatrix}.$$\n",
    "\n",
    "Então o produto $ |ba\\rangle $ é\n",
    "\n",
    "$$ |ba\\rangle = \\begin{bmatrix} b_0a_0 \\\\ b_0a_1 \\\\ b_1a_0 \\\\ b_1a_1 \\end{bmatrix}.$$\n",
    "\n",
    "- Essas regras seguem a probabilidade padrão.\n",
    "- Para calcular a probabilidade do bit mais a direita devemos seguir os seguintes passos:\n",
    "\\begin{matrix}\n",
    "    p_{|a\\rangle}(|0\\rangle) &=& p(|00\\rangle) + p(|10\\rangle) \\\\\n",
    "    &=& (b_0a_0)^2 + (b_1a_0)^2 \\\\\n",
    "    &=& b_0^2 a_0^2 + b_1^2 a_0^2 \\\\\n",
    "    &=& (b_0^2 + b_1^2)\\cdot a_0^2 \\\\\n",
    "    &=& a_0^2\n",
    "\\end{matrix}\n",
    "\n",
    "### Entangled states\n",
    "\n",
    "- Estados emaranhados são aqueles onde não há pares de qubit únicos $|a\\rangle$ e $|b\\rangle$ que formem o produto.\n",
    "- Exemplo:\n",
    "    - $$ |\\Phi^+\\rangle = \\dfrac{1}{\\sqrt{2}} \\cdot \\begin{bmatrix} 1 \\\\ 0\\\\ 0\\\\ 1 \\end{bmatrix} = \\dfrac{1}{\\sqrt{2}}(|00\\rangle + |11\\rangle)$$\n",
    "\n",
    "---\n",
    "## Entangling gates\n",
    "\n",
    "- Para criar emaranhamento, precisamos de portas multi-qubit.\n",
    "\n",
    "### The cx gate\n",
    "\n",
    "Para começar vamos criar um estado $|00\\rangle$."
   ],
   "metadata": {
    "collapsed": false,
    "pycharm": {
     "name": "#%% md\n"
    }
   }
  },
  {
   "cell_type": "code",
   "execution_count": 2,
   "outputs": [
    {
     "data": {
      "text/plain": "<IPython.core.display.Latex object>",
      "text/latex": "$$\n\n\\begin{bmatrix}\n1 & 0 & 0 & 0  \\\\\n \\end{bmatrix}\n$$"
     },
     "execution_count": 2,
     "metadata": {},
     "output_type": "execute_result"
    }
   ],
   "source": [
    "from qiskit import QuantumCircuit\n",
    "from qiskit.quantum_info import Statevector\n",
    "\n",
    "qc = QuantumCircuit(2)\n",
    "\n",
    "# This calculates what the state vector of our qubits would be\n",
    "# after passing through the circuit 'qc'\n",
    "ket = Statevector(qc)\n",
    "\n",
    "# The code below writes down the state vector.\n",
    "# Since it's the last line in the cell, the cell will display it as output\n",
    "ket.draw('latex')"
   ],
   "metadata": {
    "collapsed": false,
    "pycharm": {
     "name": "#%%\n"
    }
   }
  },
  {
   "cell_type": "markdown",
   "source": [
    "Essa porta atua em dois qubit, conhecidos como controle e alvo.\n",
    "Vamos tentar usar o qubit 0 como controle e o 1 como alvo, para isso:"
   ],
   "metadata": {
    "collapsed": false,
    "pycharm": {
     "name": "#%% md\n"
    }
   }
  },
  {
   "cell_type": "code",
   "execution_count": 3,
   "outputs": [
    {
     "data": {
      "text/plain": "<IPython.core.display.Latex object>",
      "text/latex": "$$\n\n\\begin{bmatrix}\n1 & 0 & 0 & 0  \\\\\n \\end{bmatrix}\n$$"
     },
     "execution_count": 3,
     "metadata": {},
     "output_type": "execute_result"
    }
   ],
   "source": [
    "qc.cx(0,1)\n",
    "\n",
    "ket = Statevector(qc)\n",
    "ket.draw('latex')"
   ],
   "metadata": {
    "collapsed": false,
    "pycharm": {
     "name": "#%%\n"
    }
   }
  },
  {
   "cell_type": "markdown",
   "source": [
    "A porta não teve efeito, o estado permanece o mesmo.\n",
    "Vamos inverter o alvo com o controle."
   ],
   "metadata": {
    "collapsed": false,
    "pycharm": {
     "name": "#%% md\n"
    }
   }
  },
  {
   "cell_type": "code",
   "execution_count": 4,
   "outputs": [
    {
     "data": {
      "text/plain": "<IPython.core.display.Latex object>",
      "text/latex": "$$\n\n\\begin{bmatrix}\n1 & 0 & 0 & 0  \\\\\n \\end{bmatrix}\n$$"
     },
     "execution_count": 4,
     "metadata": {},
     "output_type": "execute_result"
    }
   ],
   "source": [
    "qc.cx(1,0)\n",
    "\n",
    "ket = Statevector(qc)\n",
    "ket.draw('latex')"
   ],
   "metadata": {
    "collapsed": false,
    "pycharm": {
     "name": "#%%\n"
    }
   }
  },
  {
   "cell_type": "markdown",
   "source": [
    "Ainda sem efeito. Isso era o esperado. Se o controle está no estado $|0\\rangle$ a porta `cx` não faz nada. Caso o controle seja $|1\\rangle$, `cx` insere uma porta `x` no alvo.\n",
    "\n",
    "<p align=\"center\">\n",
    "    <img src=\"https://learn.qiskit.org/content/intro/images/multi-qubit/cnot.svg\" />\n",
    "</p>\n",
    "\n",
    "<div align=\"center\", style=font-size:12px>\n",
    "Fonte:\n",
    "<a href=\"https://learn.qiskit.org/content/intro/images/what-is/amp-vs-prob.svg\">\n",
    "Qiskit\n",
    "</a>\n",
    "</div>\n",
    "\n",
    "Então, se quisermos que `cx` funcione, precisamos inverter o qubit de controle para $|1\\rangle$."
   ],
   "metadata": {
    "collapsed": false,
    "pycharm": {
     "name": "#%% md\n"
    }
   }
  },
  {
   "cell_type": "code",
   "execution_count": 5,
   "outputs": [
    {
     "data": {
      "text/plain": "<IPython.core.display.Latex object>",
      "text/latex": "$$\n\n\\begin{bmatrix}\n0 & 0 & 1 & 0  \\\\\n \\end{bmatrix}\n$$"
     },
     "execution_count": 5,
     "metadata": {},
     "output_type": "execute_result"
    }
   ],
   "source": [
    "qc.x(1,0)\n",
    "\n",
    "ket = Statevector(qc)\n",
    "ket.draw('latex')"
   ],
   "metadata": {
    "collapsed": false,
    "pycharm": {
     "name": "#%%\n"
    }
   }
  },
  {
   "cell_type": "markdown",
   "source": [
    "Agora ao executar `cx` também inverterá o qubit alvo."
   ],
   "metadata": {
    "collapsed": false,
    "pycharm": {
     "name": "#%% md\n"
    }
   }
  },
  {
   "cell_type": "code",
   "execution_count": 6,
   "outputs": [
    {
     "data": {
      "text/plain": "<IPython.core.display.Latex object>",
      "text/latex": "$$\n\n\\begin{bmatrix}\n0 & 0 & 0 & 1  \\\\\n \\end{bmatrix}\n$$"
     },
     "execution_count": 6,
     "metadata": {},
     "output_type": "execute_result"
    }
   ],
   "source": [
    "qc.cx(1,0)\n",
    "\n",
    "ket = Statevector(qc)\n",
    "ket.draw('latex')"
   ],
   "metadata": {
    "collapsed": false,
    "pycharm": {
     "name": "#%%\n"
    }
   }
  },
  {
   "cell_type": "markdown",
   "source": [
    "Ainda não possuímos um emaranhamento. Para isso precisamos que o qubit de controle esteja em um estado de superposição, como $|\\!+\\!0\\rangle$."
   ],
   "metadata": {
    "collapsed": false,
    "pycharm": {
     "name": "#%% md\n"
    }
   }
  },
  {
   "cell_type": "code",
   "execution_count": 7,
   "outputs": [
    {
     "data": {
      "text/plain": "<IPython.core.display.Latex object>",
      "text/latex": "$$\n\n\\begin{bmatrix}\n\\tfrac{1}{\\sqrt{2}} & 0 & \\tfrac{1}{\\sqrt{2}} & 0  \\\\\n \\end{bmatrix}\n$$"
     },
     "execution_count": 7,
     "metadata": {},
     "output_type": "execute_result"
    }
   ],
   "source": [
    "# Let's create a fresh quantum circuit\n",
    "qc = QuantumCircuit(2)\n",
    "\n",
    "qc.h(1)\n",
    "\n",
    "ket = Statevector(qc)\n",
    "ket.draw('latex')"
   ],
   "metadata": {
    "collapsed": false,
    "pycharm": {
     "name": "#%%\n"
    }
   }
  },
  {
   "cell_type": "markdown",
   "source": [
    "Se aplicarmos `cx` agora, atuará em paralelo nos dois estados, $|00\\rangle$ e $|10\\rangle$."
   ],
   "metadata": {
    "collapsed": false,
    "pycharm": {
     "name": "#%% md\n"
    }
   }
  },
  {
   "cell_type": "code",
   "execution_count": 8,
   "outputs": [
    {
     "data": {
      "text/plain": "<IPython.core.display.Latex object>",
      "text/latex": "$$\n\n\\begin{bmatrix}\n\\tfrac{1}{\\sqrt{2}} & 0 & 0 & \\tfrac{1}{\\sqrt{2}}  \\\\\n \\end{bmatrix}\n$$"
     },
     "execution_count": 8,
     "metadata": {},
     "output_type": "execute_result"
    }
   ],
   "source": [
    "qc.cx(1,0)\n",
    "\n",
    "ket = Statevector(qc)\n",
    "ket.draw('latex')"
   ],
   "metadata": {
    "collapsed": false,
    "pycharm": {
     "name": "#%%\n"
    }
   }
  },
  {
   "cell_type": "markdown",
   "source": [
    "O resultado é $|\\Phi^+\\rangle$, um estado emaranhado.\n",
    "\n",
    "### The cz gate\n",
    "\n",
    "Seu efeito é semelhante ao `cx`, atuando em um qubit alvo e outro de controle, não fazendo nada quando o qubit de controle está no estado $|0\\rangle$. Mas quando o qubit de controle está em $|1\\rangle$, executa um `z` no alvo.\n",
    "\n",
    "Essa é a interpretação padrão. A porta `z` aplicado a somente um qubit não faz nada para $|0\\rangle$, mas fornece uma fase de $-1$ para o estado $|1\\rangle$. Então, a porta `cz` só tem efeito quando ambos os qubits estão no estado $|1\\rangle$.\n",
    "\n",
    "### The cx gate revisited\n",
    "\n",
    "Outras interpretações são possíveis para essa porta. Por exemplo, no caso em ambos os qubits estão no estado $|+\\rangle$."
   ],
   "metadata": {
    "collapsed": false,
    "pycharm": {
     "name": "#%% md\n"
    }
   }
  },
  {
   "cell_type": "code",
   "execution_count": 9,
   "outputs": [
    {
     "data": {
      "text/plain": "<IPython.core.display.Latex object>",
      "text/latex": "$$\n\n\\begin{bmatrix}\n\\tfrac{1}{2} & \\tfrac{1}{2} & \\tfrac{1}{2} & \\tfrac{1}{2}  \\\\\n \\end{bmatrix}\n$$"
     },
     "execution_count": 9,
     "metadata": {},
     "output_type": "execute_result"
    }
   ],
   "source": [
    "qc = QuantumCircuit(2)\n",
    "\n",
    "qc.h(0)\n",
    "qc.h(1)\n",
    "\n",
    "ket = Statevector(qc)\n",
    "ket.draw('latex')"
   ],
   "metadata": {
    "collapsed": false,
    "pycharm": {
     "name": "#%%\n"
    }
   }
  },
  {
   "cell_type": "markdown",
   "source": [
    "Descobriremos que `cx` não tem efeito, não importa em qual direção."
   ],
   "metadata": {
    "collapsed": false,
    "pycharm": {
     "name": "#%% md\n"
    }
   }
  },
  {
   "cell_type": "code",
   "execution_count": 10,
   "outputs": [
    {
     "data": {
      "text/plain": "<IPython.core.display.Latex object>",
      "text/latex": "$$\n\n\\begin{bmatrix}\n\\tfrac{1}{2} & \\tfrac{1}{2} & \\tfrac{1}{2} & \\tfrac{1}{2}  \\\\\n \\end{bmatrix}\n$$"
     },
     "execution_count": 10,
     "metadata": {},
     "output_type": "execute_result"
    }
   ],
   "source": [
    "qc.cx(1,0)\n",
    "\n",
    "ket = Statevector(qc)\n",
    "ket.draw('latex')"
   ],
   "metadata": {
    "collapsed": false,
    "pycharm": {
     "name": "#%%\n"
    }
   }
  },
  {
   "cell_type": "markdown",
   "source": [
    "Agora, vamos inverter o qubit alvo para $|-\\rangle$."
   ],
   "metadata": {
    "collapsed": false,
    "pycharm": {
     "name": "#%% md\n"
    }
   }
  },
  {
   "cell_type": "code",
   "execution_count": 11,
   "outputs": [
    {
     "data": {
      "text/plain": "<IPython.core.display.Latex object>",
      "text/latex": "$$\n\n\\begin{bmatrix}\n\\tfrac{1}{2} & -\\tfrac{1}{2} & \\tfrac{1}{2} & -\\tfrac{1}{2}  \\\\\n \\end{bmatrix}\n$$"
     },
     "execution_count": 11,
     "metadata": {},
     "output_type": "execute_result"
    }
   ],
   "source": [
    "qc.z(0)\n",
    "\n",
    "ket = Statevector(qc)\n",
    "ket.draw('latex')"
   ],
   "metadata": {
    "collapsed": false,
    "pycharm": {
     "name": "#%%\n"
    }
   }
  },
  {
   "cell_type": "markdown",
   "source": [
    "Ao aplicarmos `cx` agora, teremos um efeito. Ele vira o qubit de controle para $|-\\rangle$ também."
   ],
   "metadata": {
    "collapsed": false,
    "pycharm": {
     "name": "#%% md\n"
    }
   }
  },
  {
   "cell_type": "code",
   "execution_count": 12,
   "outputs": [
    {
     "data": {
      "text/plain": "<IPython.core.display.Latex object>",
      "text/latex": "$$\n\n\\begin{bmatrix}\n\\tfrac{1}{2} & -\\tfrac{1}{2} & -\\tfrac{1}{2} & \\tfrac{1}{2}  \\\\\n \\end{bmatrix}\n$$"
     },
     "execution_count": 12,
     "metadata": {},
     "output_type": "execute_result"
    }
   ],
   "source": [
    "qc.cx(1,0)\n",
    "\n",
    "ket = Statevector(qc)\n",
    "ket.draw('latex')"
   ],
   "metadata": {
    "collapsed": false,
    "pycharm": {
     "name": "#%%\n"
    }
   }
  },
  {
   "cell_type": "markdown",
   "source": [
    "Esse efeito é conhecido como retrocesso de fase, quando há uma superposição nos qubits de controle e de destino, alguns recursos da superposição de destino podem realimentar o controle.\n",
    "\n",
    "Também pode nos fornecer uma versão alternativa da porta `cx`. Podemos pensar nisso como aplicar um `z` ao controle se o alvo estiver no estado $|-\\rangle$ e não fazer nada caso esteja em $|+\\rangle$.\n",
    "\n",
    "---\n",
    "\n",
    "## Entangled states and simulation\n",
    "\n",
    "Para descrever completamento o estado de $n$ qubits, temos que ser capazes de acompanhar $2^n$ amplitudes. Um laptop moderno pode controlar tranquilamente $2^{20}$ amplitudes, mas para $2^{100}$ amplitudes mesmo supercomputadores teriam dificuldade.\n",
    "\n",
    "Mas há uma forma mais inteligente de fazer isso. Suponha que comecemos de um estado de produto, logo cada qubit pode ser descrito independentemente por um único estado de qubit com duas amplitudes.\n",
    "\n",
    "Suponha que executemos um circuito com apenas portas de qubit simples. Essas manipulações podem ser facilmente descritas modificando os estados de qubit único, o que significa fazer alterações nos pares específicos de amplitudes afetadas. Então, para cada qubit medido, a probabilidade é determinada por suas respectivas amplitudes.\n",
    "\n",
    "Durante todo processo, os estados permaneceram como estados produtos, ou seja, nunca houve um $n$-qubit verdadeiro, mas sim $n$ cálculos separados de qubit único. Isso torna possível acompanhar de forma gerenciável 2$n$ amplitudes. Nesses casos, é possível simular milhares de qubits de forma fácil até mesmo para celulares.\n",
    "\n",
    "Algoritmos quânticos úteis precisam ser capazes de fazer coisas que os computadores clássicos não possam simular, ou seja, devem evitar funcionar de forma que truques como esse sejam possíveis. Devem usar estados para os quais $2^n$ amplitudes sejam necessárias, envolvendo mais do que os estados do produto. Logo, como qualquer coisa que não seja um produto de estado é um estado emaranhado, o emaranhamento é essencial para qualquer vantagem quântica.\n",
    "\n",
    "---\n",
    "\n",
    "## Qubits working together: Superdense coding\n",
    "\n",
    "Para a comunicação clássica, há um limite para a quantidade de informações que podemos enviar com um certo número de bits. Não podemos enviar mais do que $n$ bits de informação quando enviamos $n$ bits. Para a comunicação quântica essa mesma regra se aplica. Mas existem maneiras de ultrapassar os limites para fazer coisas não são possíveis da forma clássica, usando emaranhamento. Veremos um exemplo no qual a transferência de um qubit permite o envio de uma mensagem com dois bits.\n",
    "\n",
    "Suponha que Alice deseja enviar uma mensagem de dois bits para Bob, através do envio de qubits.\n",
    "\n",
    "A maneira mais simples pe usando dois qubits. Simplesmente usando os qubits para codificarem os valores dos bits, aplicando um `x` quando necessário."
   ],
   "metadata": {
    "collapsed": false,
    "pycharm": {
     "name": "#%% md\n"
    }
   }
  },
  {
   "cell_type": "code",
   "execution_count": 13,
   "outputs": [],
   "source": [
    "# The message\n",
    "MESSAGE = '00'\n",
    "\n",
    "# Alice encodes the message\n",
    "qc_alice = QuantumCircuit(2, 2)\n",
    "if MESSAGE[-1]=='1':\n",
    "    qc_alice.x(0)\n",
    "if MESSAGE[-2]=='1':\n",
    "    qc_alice.x(1)"
   ],
   "metadata": {
    "collapsed": false,
    "pycharm": {
     "name": "#%%\n"
    }
   }
  },
  {
   "cell_type": "markdown",
   "source": [
    "Depois de enviar os qubits para Bob, tudo o que ele precisa fazer é medi-los."
   ],
   "metadata": {
    "collapsed": false,
    "pycharm": {
     "name": "#%% md\n"
    }
   }
  },
  {
   "cell_type": "code",
   "execution_count": 14,
   "outputs": [
    {
     "data": {
      "text/plain": "{'00': 1024}"
     },
     "execution_count": 14,
     "metadata": {},
     "output_type": "execute_result"
    }
   ],
   "source": [
    "from qiskit import Aer\n",
    "backend = Aer.get_backend('aer_simulator')\n",
    "\n",
    "# Bob measures\n",
    "qc_bob = QuantumCircuit(2,2)\n",
    "qc_bob.measure([0,1],[0,1])\n",
    "\n",
    "backend.run(qc_alice.compose(qc_bob)).result().get_counts()"
   ],
   "metadata": {
    "collapsed": false,
    "pycharm": {
     "name": "#%%\n"
    }
   }
  },
  {
   "cell_type": "markdown",
   "source": [
    "Bob vai obter o mesmo resultado que Alice colocou.\n",
    "\n",
    "Esse protocolo não usou emaranhamento. Uma forma de inseri-lo seria Alice adicionar as portas `h` e `cx` após codificar as informações. Como segue."
   ],
   "metadata": {
    "collapsed": false,
    "pycharm": {
     "name": "#%% md\n"
    }
   }
  },
  {
   "cell_type": "code",
   "execution_count": 15,
   "outputs": [
    {
     "data": {
      "text/plain": "<IPython.core.display.Latex object>",
      "text/latex": "$$\n\n\\begin{bmatrix}\n\\tfrac{1}{\\sqrt{2}} & 0 & 0 & \\tfrac{1}{\\sqrt{2}}  \\\\\n \\end{bmatrix}\n$$"
     },
     "execution_count": 15,
     "metadata": {},
     "output_type": "execute_result"
    }
   ],
   "source": [
    "MESSAGE = '00'\n",
    "\n",
    "qc_alice = QuantumCircuit(2,2)\n",
    "\n",
    "# Alice encodes the message\n",
    "if MESSAGE[-1]=='1':\n",
    "    qc_alice.x(0)\n",
    "if MESSAGE[-2]=='1':\n",
    "    qc_alice.x(1)\n",
    "\n",
    "# then she creates entangled states\n",
    "qc_alice.h(1)\n",
    "qc_alice.cx(1,0)\n",
    "\n",
    "ket = Statevector(qc_alice)\n",
    "ket.draw('latex')"
   ],
   "metadata": {
    "collapsed": false,
    "pycharm": {
     "name": "#%%\n"
    }
   }
  },
  {
   "cell_type": "markdown",
   "source": [
    "Para a mensagem $00$, o estado criado por essas portas é $|\\Phi^+\\rangle$. Para as outras combinações de mensagem obtemos outros estados emaranhados famosos.\n",
    "\n",
    "\\begin{matrix}\n",
    "00 \\to |\\Phi^+\\rangle &=& \\dfrac{1}{\\sqrt{2}}(|00\\rangle + |11\\rangle) \\\\\n",
    "01 \\to |\\Psi^+\\rangle &=& \\dfrac{1}{\\sqrt{2}}(|01\\rangle + |10\\rangle) \\\\\n",
    "10 \\to |\\Phi^-\\rangle &=& \\dfrac{1}{\\sqrt{2}}(|00\\rangle - |11\\rangle) \\\\\n",
    "11 \\to |\\Psi^-\\rangle &=& \\dfrac{1}{\\sqrt{2}}(|01\\rangle - |10\\rangle) \\\\\n",
    "\\end{matrix}\n",
    "\n",
    "- Qiskit mostra outra tabela de estados emaranhados. $11 \\to |\\Psi^+\\rangle$.\n",
    "\n",
    "Quando Bob recebe esses estados, ele precisa desemaranhá-los, desfazendo as portas `h` e `cx`. Para então recuperar a mensagem."
   ],
   "metadata": {
    "collapsed": false,
    "pycharm": {
     "name": "#%% md\n"
    }
   }
  },
  {
   "cell_type": "code",
   "execution_count": 16,
   "outputs": [
    {
     "data": {
      "text/plain": "{'00': 1024}"
     },
     "execution_count": 16,
     "metadata": {},
     "output_type": "execute_result"
    }
   ],
   "source": [
    "qc_bob = QuantumCircuit(2,2)\n",
    "# Bob unentangles\n",
    "qc_bob.cx(0,1)\n",
    "qc_bob.h(0)\n",
    "# Then measures\n",
    "qc_bob.measure([0,1],[0,1])\n",
    "\n",
    "backend.run(qc_alice.compose(qc_bob)).result().get_counts()"
   ],
   "metadata": {
    "collapsed": false,
    "pycharm": {
     "name": "#%%\n"
    }
   }
  },
  {
   "cell_type": "markdown",
   "source": [
    "Agora usamos estados emaranhados, mas não deram alguma vantagem. Para isso, precisamos examinar a relação entre esses estados emaranhados.\n",
    "\n",
    "O estado $|\\Phi^+\\rangle$ é uma superposição de $|00\\rangle$ e $|11\\rangle$, enquanto $|\\Psi^+$ é de $|01\\rangle$ e $|10\\rangle$. Logo, uma porta `x`é suficiente para transformar um em outro. O mesmo ocorre para $|\\Phi^-\\rangle$ e $|\\Psi^-\\rangle$. Da mesma forma, a diferença entre $|\\Phi^+\\rangle$ e $|\\Phi^-\\rangle$ é somente a fase relativa, a qual pode ser alterada por uma porta `z` em qualquer qubit, o mesmo ocorre para $|\\Psi^+\\rangle$ e $|\\Psi^-\\rangle$.\n",
    "\n",
    "Alice poderia enviar sua mensagem criando primeiro um estado emaranhado e alterá-lo com portas `x` e `z` para codificar a mensagem correta."
   ],
   "metadata": {
    "collapsed": false,
    "pycharm": {
     "name": "#%% md\n"
    }
   }
  },
  {
   "cell_type": "code",
   "execution_count": 17,
   "outputs": [
    {
     "data": {
      "text/plain": "<IPython.core.display.Latex object>",
      "text/latex": "$$\n\n\\begin{bmatrix}\n\\tfrac{1}{\\sqrt{2}} & 0 & 0 & \\tfrac{1}{\\sqrt{2}}  \\\\\n \\end{bmatrix}\n$$"
     },
     "execution_count": 17,
     "metadata": {},
     "output_type": "execute_result"
    }
   ],
   "source": [
    "MESSAGE = '00'\n",
    "\n",
    "qc_alice = QuantumCircuit(2,2)\n",
    "qc_alice.h(1)\n",
    "qc_alice.cx(1,0)\n",
    "\n",
    "if MESSAGE[-2]=='1':\n",
    "    qc_alice.x(1)\n",
    "if MESSAGE[-1]=='1':\n",
    "    qc_alice.z(1)\n",
    "\n",
    "ket = Statevector(qc_alice)\n",
    "ket.draw('latex')"
   ],
   "metadata": {
    "collapsed": false,
    "pycharm": {
     "name": "#%%\n"
    }
   }
  },
  {
   "cell_type": "markdown",
   "source": [
    "Como Bob está recebendo os mesmo estados de antes, ele não precisa alterar seu circuito."
   ],
   "metadata": {
    "collapsed": false,
    "pycharm": {
     "name": "#%% md\n"
    }
   }
  },
  {
   "cell_type": "code",
   "execution_count": 18,
   "outputs": [
    {
     "data": {
      "text/plain": "{'00': 1024}"
     },
     "execution_count": 18,
     "metadata": {},
     "output_type": "execute_result"
    }
   ],
   "source": [
    "backend.run(qc_alice.compose(qc_bob)).result().get_counts()"
   ],
   "metadata": {
    "collapsed": false,
    "pycharm": {
     "name": "#%%\n"
    }
   }
  },
  {
   "cell_type": "markdown",
   "source": [
    "As portas `x` e `z` podem ser aplicadas a apenas um qubit (qubit 1 nesse caso). Alice poderia enviar o qubit 0 assim que tivesse criado o par emaranhado. Na verdade, ela poderia enviá-lo antes de saber a mensagem que deseja enviar.\n",
    "\n",
    "Isso fica ainda mais impressionante quando imaginamos uma terceira pessoa, que apenas cria $|\\Phi^+\\rangle$ estados e envia os qubits."
   ],
   "metadata": {
    "collapsed": false,
    "pycharm": {
     "name": "#%% md\n"
    }
   }
  },
  {
   "cell_type": "code",
   "execution_count": 19,
   "outputs": [],
   "source": [
    "qc_charlie = QuantumCircuit(2,2)\n",
    "\n",
    "qc_charlie.h(1)\n",
    "qc_charlie.cx(1,0);"
   ],
   "metadata": {
    "collapsed": false,
    "pycharm": {
     "name": "#%%\n"
    }
   }
  },
  {
   "cell_type": "markdown",
   "source": [
    "Esse terceiro pode enviar diretamente um qubit para Bob e o outro para Alice. Alice pode codificar a mensagem de dois qubit manipulando apenas o qubit que recebeu e enviá-lo para Bob.\n",
    "\n",
    "<p align=\"center\">\n",
    "    <img src=\"https://learn.qiskit.org/content/intro/images/multi-qubit/superdense.jpg\" />\n",
    "</p>\n",
    "\n",
    "<div align=\"center\", style=font-size:12px>\n",
    "Fonte:\n",
    "<a href=\"https://learn.qiskit.org/content/intro/images/multi-qubit/superdense.jpg\">\n",
    "Qiskit\n",
    "</a>\n",
    "</div>"
   ],
   "metadata": {
    "collapsed": false,
    "pycharm": {
     "name": "#%% md\n"
    }
   }
  },
  {
   "cell_type": "code",
   "execution_count": 20,
   "outputs": [],
   "source": [
    "MESSAGE = '01'\n",
    "\n",
    "qc_alice = QuantumCircuit(2,2)\n",
    "\n",
    "if MESSAGE[-2]=='1':\n",
    "    qc_alice.x(1)\n",
    "if MESSAGE[-1]=='1':\n",
    "    qc_alice.z(1)"
   ],
   "metadata": {
    "collapsed": false,
    "pycharm": {
     "name": "#%%\n"
    }
   }
  },
  {
   "cell_type": "markdown",
   "source": [
    "Agora Bob pode aplicar o mesmo processo anterior e extrair a mensagem."
   ],
   "metadata": {
    "collapsed": false,
    "pycharm": {
     "name": "#%% md\n"
    }
   }
  },
  {
   "cell_type": "code",
   "execution_count": 21,
   "outputs": [
    {
     "data": {
      "text/plain": "{'01': 1024}"
     },
     "execution_count": 21,
     "metadata": {},
     "output_type": "execute_result"
    }
   ],
   "source": [
    "complete_qc = qc_charlie.compose(qc_alice.compose(qc_bob))\n",
    "backend.run(complete_qc).result().get_counts()"
   ],
   "metadata": {
    "collapsed": false,
    "pycharm": {
     "name": "#%%\n"
    }
   }
  },
  {
   "cell_type": "markdown",
   "source": [
    "O resultado final é que Alice enviou dois bits de informação para Bob, mas só precisou enviar um qubit para isso. Foi possível pois o qubit era parte de um par emaranhado. Enquanto Alice aplicava portas a um qubit, ela estava manipulando o conjunto maior de quatro pares emaranhados do qual fazia parte.\n",
    "\n",
    "---\n",
    "\n",
    "## Unique correlations: The Hardy paradox\n",
    "\n",
    "### Some classical correlations\n",
    "\n",
    "Agora vamos considerar outra situação com nossos amigos Alice, Bob e Charlie. Primeiro, vamos considerar um caso completamente clássico.\n",
    "\n",
    "Suponha que Charlie empacote um par de formas coloridas todos os dias, enviando uma para Alice e a outra para Bob. Todos os dias, Alice e Bob olham para sua forma e comparam o que receberam. Para cada forma, eles olham para uma de duas propriedades: se era um cubo ou não, e se era azul ou não.\n",
    "\n",
    "Depois de muitos dias, e muitas opções de olhar para a forma ou cor, eles fazem duas observações\n",
    "\n",
    "Eles nunca são um cubo.\n",
    "Se um não for azul, o outro será um cubo.\n",
    "Claramente, Charlie não está apenas enviando formas aleatórias. Existe algum grau de correlação entre os objetos que Charlie escolhe enviar.\n",
    "\n",
    "Com essas observações em mente, Alice e Bob imaginam o caso de ambos olharem para a cor e descobrirem que sua forma não é azul. Bob seria então capaz de aplicar a observação 2 e inferir que a forma de Alice é certamente um cubo. Alice poderia fazer o mesmo e inferir que a forma de Bob é um cubo. No entanto, pela observação 1, eles sabem que isso é impossível. Então, eles concluem que uma de suas formas sempre será azul.\n",
    "\n",
    "Este é um cenário bastante artificial, mas mostra que há limites para o tipo de correlações possíveis com sistemas clássicos (como formas coloridas). O fato de que a cor e a forma de cada objeto são simultaneamente bem definidas, podemos aplicar cadeias de lógica como as acima, que usam os resultados de um para deduzir coisas sobre o outro.\n",
    "\n",
    "Para qubits, entretanto, os resultados de uma medição não são bem definidos antes que a medição seja feita. Então, podemos encontrar diferentes tipos de comportamento?\n",
    "\n",
    "### Measuring a qubit\n",
    "\n",
    "No cenário acima, vimos duas propriedades diferentes de um objeto clássico: forma e cor. Para uma contraparte quântica, precisaremos fazer o mesmo com os qubits.\n",
    "\n",
    "A única informação que extraímos de um qubit é através da medição: aplicamos a operação de medição e obtemos 0 ou 1. A maneira como isso é fisicamente implementado em um computador quântico depende dos detalhes de como seu qubit é construído. Para alguns tipos de qubit, é possível girar o dispositivo de medição para fazer diferentes tipos de medição e ver um comportamento diferente a partir dos resultados.\n",
    "\n",
    "Para outros tipos de qubit, girar seu dispositivo de medição irá apenas quebrá-lo. No entanto, existe uma maneira simples de obter o mesmo efeito: em vez disso, basta girar o qubit! Executando portas de qubit simples antes de fazer uma medição padrão, reproduzimos os efeitos dessas formas alternativas de medição.\n",
    "\n",
    "O exemplo mais comum disso é simplesmente executar uma porta `h` imediatamente antes da medição. Isso nos dá o que é conhecido como medição `x`."
   ],
   "metadata": {
    "collapsed": false,
    "pycharm": {
     "name": "#%% md\n"
    }
   }
  },
  {
   "cell_type": "code",
   "execution_count": 22,
   "outputs": [
    {
     "data": {
      "text/plain": "     ┌───┐┌─┐\nq_0: ┤ H ├┤M├\n     └───┘└╥┘\nc: 1/══════╩═\n           0 ",
      "text/html": "<pre style=\"word-wrap: normal;white-space: pre;background: #fff0;line-height: 1.1;font-family: &quot;Courier New&quot;,Courier,monospace\">     ┌───┐┌─┐\nq_0: ┤ H ├┤M├\n     └───┘└╥┘\nc: 1/══════╩═\n           0 </pre>"
     },
     "execution_count": 22,
     "metadata": {},
     "output_type": "execute_result"
    }
   ],
   "source": [
    "meas_x = QuantumCircuit(1,1)\n",
    "meas_x.h(0)\n",
    "meas_x.measure(0,0)\n",
    "\n",
    "meas_x.draw()"
   ],
   "metadata": {
    "collapsed": false,
    "pycharm": {
     "name": "#%%\n"
    }
   }
  },
  {
   "cell_type": "markdown",
   "source": [
    "A forma padrão de medição, que é feita apenas com uma porta `measure`, é conhecida como medição `z` neste contexto."
   ],
   "metadata": {
    "collapsed": false,
    "pycharm": {
     "name": "#%% md\n"
    }
   }
  },
  {
   "cell_type": "code",
   "execution_count": 23,
   "outputs": [
    {
     "data": {
      "text/plain": "     ┌─┐\nq_0: ┤M├\n     └╥┘\nc: 1/═╩═\n      0 ",
      "text/html": "<pre style=\"word-wrap: normal;white-space: pre;background: #fff0;line-height: 1.1;font-family: &quot;Courier New&quot;,Courier,monospace\">     ┌─┐\nq_0: ┤M├\n     └╥┘\nc: 1/═╩═\n      0 </pre>"
     },
     "execution_count": 23,
     "metadata": {},
     "output_type": "execute_result"
    }
   ],
   "source": [
    "meas_z = QuantumCircuit(1,1)\n",
    "meas_z.measure(0,0)\n",
    "\n",
    "meas_z.draw()"
   ],
   "metadata": {
    "collapsed": false,
    "pycharm": {
     "name": "#%%\n"
    }
   }
  },
  {
   "cell_type": "markdown",
   "source": [
    "Como você pode adivinhar pelos nomes, também existe algo chamado medição `y`, mas não precisaremos usar isso aqui.\n",
    "\n",
    "Agora vamos ver o que acontece com certos estados quando fazemos essas medições. Começaremos com o estado $|0\\rangle$."
   ],
   "metadata": {
    "collapsed": false,
    "pycharm": {
     "name": "#%% md\n"
    }
   }
  },
  {
   "cell_type": "code",
   "execution_count": 24,
   "outputs": [
    {
     "data": {
      "text/plain": "     \nq_0: \n     \nc: 1/\n     ",
      "text/html": "<pre style=\"word-wrap: normal;white-space: pre;background: #fff0;line-height: 1.1;font-family: &quot;Courier New&quot;,Courier,monospace\">     \nq_0: \n     \nc: 1/\n     </pre>"
     },
     "execution_count": 24,
     "metadata": {},
     "output_type": "execute_result"
    }
   ],
   "source": [
    "qc = QuantumCircuit(1,1)\n",
    "\n",
    "qc.draw()\n"
   ],
   "metadata": {
    "collapsed": false,
    "pycharm": {
     "name": "#%%\n"
    }
   }
  },
  {
   "cell_type": "markdown",
   "source": [
    "Para medição padrão, o resultado é certo para a saída 0."
   ],
   "metadata": {
    "collapsed": false,
    "pycharm": {
     "name": "#%% md\n"
    }
   }
  },
  {
   "cell_type": "code",
   "execution_count": 26,
   "outputs": [
    {
     "name": "stdout",
     "output_type": "stream",
     "text": [
      "Results from z measurement: {'0': 1024}\n"
     ]
    }
   ],
   "source": [
    "print('Results from z measurement:',\n",
    "      backend.run(qc.compose(meas_z)).result().get_counts())"
   ],
   "metadata": {
    "collapsed": false,
    "pycharm": {
     "name": "#%%\n"
    }
   }
  },
  {
   "cell_type": "markdown",
   "source": [
    "Para uma medição `x`, entretanto, obteremos resultados completamente aleatórios."
   ],
   "metadata": {
    "collapsed": false,
    "pycharm": {
     "name": "#%% md\n"
    }
   }
  },
  {
   "cell_type": "code",
   "execution_count": 27,
   "outputs": [
    {
     "name": "stdout",
     "output_type": "stream",
     "text": [
      "Results from x measurement: {'0': 499, '1': 525}\n"
     ]
    }
   ],
   "source": [
    "print('Results from x measurement:',\n",
    "      backend.run(qc.compose(meas_x)).result().get_counts())"
   ],
   "metadata": {
    "collapsed": false,
    "pycharm": {
     "name": "#%%\n"
    }
   }
  },
  {
   "cell_type": "markdown",
   "source": [
    "Algo semelhante ocorre para o estado $|1\\rangle$."
   ],
   "metadata": {
    "collapsed": false,
    "pycharm": {
     "name": "#%% md\n"
    }
   }
  },
  {
   "cell_type": "code",
   "execution_count": 28,
   "outputs": [
    {
     "data": {
      "text/plain": "     ┌───┐\nq_0: ┤ X ├\n     └───┘\nc: 1/═════\n          ",
      "text/html": "<pre style=\"word-wrap: normal;white-space: pre;background: #fff0;line-height: 1.1;font-family: &quot;Courier New&quot;,Courier,monospace\">     ┌───┐\nq_0: ┤ X ├\n     └───┘\nc: 1/═════\n          </pre>"
     },
     "execution_count": 28,
     "metadata": {},
     "output_type": "execute_result"
    }
   ],
   "source": [
    "qc = QuantumCircuit(1,1)\n",
    "qc.x(0)\n",
    "\n",
    "qc.draw()"
   ],
   "metadata": {
    "collapsed": false,
    "pycharm": {
     "name": "#%%\n"
    }
   }
  },
  {
   "cell_type": "markdown",
   "source": [
    "A medida `z` produz o resultado esperado com certeza, mas a medida `x` dá resultados aleatórios."
   ],
   "metadata": {
    "collapsed": false,
    "pycharm": {
     "name": "#%% md\n"
    }
   }
  },
  {
   "cell_type": "code",
   "execution_count": 29,
   "outputs": [
    {
     "name": "stdout",
     "output_type": "stream",
     "text": [
      "Results from z measurement: {'1': 1024}\n",
      "Results from x measurement: {'0': 492, '1': 532}\n"
     ]
    }
   ],
   "source": [
    "for basis,circ in [('z', meas_z), ('x', meas_x)]:\n",
    "    print('Results from ' + basis + ' measurement:',\n",
    "          backend.run(qc.compose(circ)).result().get_counts())"
   ],
   "metadata": {
    "collapsed": false,
    "pycharm": {
     "name": "#%%\n"
    }
   }
  },
  {
   "cell_type": "markdown",
   "source": [
    "O contrário ocorre para o estado $|+\\rangle$."
   ],
   "metadata": {
    "collapsed": false,
    "pycharm": {
     "name": "#%% md\n"
    }
   }
  },
  {
   "cell_type": "code",
   "execution_count": 30,
   "outputs": [
    {
     "data": {
      "text/plain": "     ┌───┐\nq_0: ┤ H ├\n     └───┘\nc: 1/═════\n          ",
      "text/html": "<pre style=\"word-wrap: normal;white-space: pre;background: #fff0;line-height: 1.1;font-family: &quot;Courier New&quot;,Courier,monospace\">     ┌───┐\nq_0: ┤ H ├\n     └───┘\nc: 1/═════\n          </pre>"
     },
     "execution_count": 30,
     "metadata": {},
     "output_type": "execute_result"
    }
   ],
   "source": [
    "qc = QuantumCircuit(1,1)\n",
    "qc.h(0)\n",
    "\n",
    "qc.draw()"
   ],
   "metadata": {
    "collapsed": false,
    "pycharm": {
     "name": "#%%\n"
    }
   }
  },
  {
   "cell_type": "markdown",
   "source": [
    "Embora os resultados sejam aleatórios para uma medição `z`, eles produzem 0 com certeza para uma medição `x`."
   ],
   "metadata": {
    "collapsed": false,
    "pycharm": {
     "name": "#%% md\n"
    }
   }
  },
  {
   "cell_type": "code",
   "execution_count": 31,
   "outputs": [
    {
     "name": "stdout",
     "output_type": "stream",
     "text": [
      "Results from z measurement: {'1': 541, '0': 483}\n",
      "Results from x measurement: {'0': 1024}\n"
     ]
    }
   ],
   "source": [
    "for basis,circ in [('z', meas_z), ('x', meas_x)]:\n",
    "    print('Results from ' + basis + ' measurement:',\n",
    "          backend.run(qc.compose(circ)).result().get_counts())"
   ],
   "metadata": {
    "collapsed": false,
    "pycharm": {
     "name": "#%%\n"
    }
   }
  },
  {
   "cell_type": "markdown",
   "source": [
    "Para o estado $|-\\rangle$, o resultado seria aleatório para a medição `z` e 1 para a medição `x`.\n",
    "\n",
    "Para outros estados, podemos encontrar um meio-termo. Por exemplo, podemos experimentar diferentes ângulos de rotação `ry`.\n",
    "   - O que é rotação `ry`?"
   ],
   "metadata": {
    "collapsed": false,
    "pycharm": {
     "name": "#%% md\n"
    }
   }
  },
  {
   "cell_type": "code",
   "execution_count": 32,
   "outputs": [],
   "source": [
    "from math import pi\n",
    "\n",
    "qc = QuantumCircuit(1, 1)\n",
    "qc.ry(-pi/4, 0);"
   ],
   "metadata": {
    "collapsed": false,
    "pycharm": {
     "name": "#%%\n"
    }
   }
  },
  {
   "cell_type": "markdown",
   "source": [
    "Para o ângulo $-\\pi/4$, vemos que ambos os resultados são parcialmente aleatórios, mas não completamente."
   ],
   "metadata": {
    "collapsed": false,
    "pycharm": {
     "name": "#%% md\n"
    }
   }
  },
  {
   "cell_type": "code",
   "execution_count": 33,
   "outputs": [
    {
     "name": "stdout",
     "output_type": "stream",
     "text": [
      "Results from z measurement: {'1': 167, '0': 857}\n",
      "Results from x measurement: {'0': 169, '1': 855}\n"
     ]
    }
   ],
   "source": [
    "for basis,circ in [('z', meas_z), ('x', meas_x)]:\n",
    "    print('Results from ' + basis + ' measurement:',\n",
    "          backend.run(qc.compose(circ)).result().get_counts())"
   ],
   "metadata": {
    "collapsed": false,
    "pycharm": {
     "name": "#%%\n"
    }
   }
  },
  {
   "cell_type": "markdown",
   "source": [
    "### The uncertainty principle\n",
    "\n",
    "Todos esses resultados são consequência do princípio da incerteza descoberto por Werner Heisenberg, que é um dos aspectos mais importantes da mecânica quântica. Afirma que, para certos pares de atributos de um sistema quântico, é impossível saber ambos com certeza.\n",
    "\n",
    "Isso não é verdade para a cor e a forma de um objeto, como em nosso exemplo anterior. Como sabemos pela experiência cotidiana, saber exatamente qual é a forma de algo não faz com que sua cor se torne aleatória.\n",
    "\n",
    "É verdade, no entanto, para os resultados das medições `z` e `x`. Essas são duas maneiras diferentes que podemos escolher para codificar um pouco de informação em um qubit. Podemos fazer isso da maneira normal, usando os estados $|0\\rangle$ e $|1\\rangle$ para codificar os valores de bit 0 e 1, e a utilização da medição de `z` para lê-lo. Ou podemos fazer de uma forma alternativa, usando os estados $|+\\rangle$ e $|-\\rangle$ para codificar os valores dos bits e a medição `x` para leitura. Mas o princípio da incerteza garante que não possamos fazer as duas coisas ao mesmo tempo.\n",
    "\n",
    "Para a medida `z` podemos definir uma quantidade\n",
    "\n",
    "$$ \\langle Z \\rangle = p_z(0) - p_z(1) $$\n",
    "\n",
    "- $p_z(0)$ é a probabilidade do resultado 0.\n",
    "- $p_z(1)$ é a probabilidade do resultado 1.\n",
    "- Atinge o valor máximo de 1 quando certamente produzirá 0.\n",
    "- Atinge o valor mínimo de -1 quando certamente produzirá 1.\n",
    "- Em casos em que o resultado é certo: $\\langle Z \\rangle^2 = 1$.\n",
    "- Para resultados aleatórios: $ \\langle Z \\rangle = \\langle Z \\rangle^2 = 0 $.\n",
    "\n",
    "De forma semelhante podemos definir a quantidade $ \\langle X \\rangle $ para o resultado das medições `x`. Para qualquer vetor de estado válido:\n",
    "\n",
    "$$ \\langle Z \\rangle^2 + \\langle X \\rangle^2 \\le 1 $$.\n",
    "\n",
    "Este é o princípio da incerteza para um qubit, especificamente quanta certeza pode ser compartilhada entre esses tipos de medição.\n",
    "\n",
    "---\n",
    "\n",
    "## Unique quantum correlations\n",
    "\n",
    "Com as noções dessas diferentes bases de medição, podemos começar a olhar para correlações únicas que são possíveis para qubits.\n",
    "\n",
    "Por exemplo, consideremos novamente nossos amigos Alice, Bob e Charlie. Charlie cria um determinado estado emaranhado e envia um qubit para Alice e o outro para Bob. Eles fazem medições e comparam os resultados. Então Charlie envia outro estado preparado de forma idêntica. Isso se repete muitas vezes, então Alice e Bob podem construir estatísticas sobre todos os resultados de medição diferentes\n",
    "\n",
    "Vamos considerar o caso em que Charlie envia o seguinte estado emaranhado."
   ],
   "metadata": {
    "collapsed": false,
    "pycharm": {
     "name": "#%% md\n"
    }
   }
  },
  {
   "cell_type": "code",
   "execution_count": 34,
   "outputs": [
    {
     "data": {
      "text/plain": "                  ┌───┐┌───────────┐┌───┐┌───────────┐\nq_0: ─────────────┤ X ├┤ Ry(0.785) ├┤ X ├┤ Ry(2.356) ├\n     ┌───────────┐└─┬─┘└───────────┘└─┬─┘└───────────┘\nq_1: ┤ Ry(1.911) ├──■─────────────────■───────────────\n     └───────────┘                                    \nc: 2/═════════════════════════════════════════════════\n                                                      ",
      "text/html": "<pre style=\"word-wrap: normal;white-space: pre;background: #fff0;line-height: 1.1;font-family: &quot;Courier New&quot;,Courier,monospace\">                  ┌───┐┌───────────┐┌───┐┌───────────┐\nq_0: ─────────────┤ X ├┤ Ry(0.785) ├┤ X ├┤ Ry(2.356) ├\n     ┌───────────┐└─┬─┘└───────────┘└─┬─┘└───────────┘\nq_1: ┤ Ry(1.911) ├──■─────────────────■───────────────\n     └───────────┘                                    \nc: 2/═════════════════════════════════════════════════\n                                                      </pre>"
     },
     "execution_count": 34,
     "metadata": {},
     "output_type": "execute_result"
    }
   ],
   "source": [
    "qc_charlie = QuantumCircuit(2,2)\n",
    "qc_charlie.ry(1.911,1)\n",
    "qc_charlie.cx(1,0)\n",
    "qc_charlie.ry(0.785,0)\n",
    "qc_charlie.cx(1,0)\n",
    "qc_charlie.ry(2.356,0)\n",
    "\n",
    "qc_charlie.draw()"
   ],
   "metadata": {
    "collapsed": false,
    "pycharm": {
     "name": "#%%\n"
    }
   }
  },
  {
   "cell_type": "markdown",
   "source": [
    "Primeiro, Alice e Bob tentam fazer medições `z` de seus qubits."
   ],
   "metadata": {
    "collapsed": false,
    "pycharm": {
     "name": "#%% md\n"
    }
   }
  },
  {
   "cell_type": "code",
   "execution_count": 35,
   "outputs": [],
   "source": [
    "meas_zz = QuantumCircuit(2,2)\n",
    "meas_zz.measure([0,1],[0,1]);"
   ],
   "metadata": {
    "collapsed": false,
    "pycharm": {
     "name": "#%%\n"
    }
   }
  },
  {
   "cell_type": "markdown",
   "source": [
    "Em muitas amostras, eles encontram os seguintes resultados."
   ],
   "metadata": {
    "collapsed": false,
    "pycharm": {
     "name": "#%% md\n"
    }
   }
  },
  {
   "cell_type": "code",
   "execution_count": 37,
   "outputs": [
    {
     "name": "stdout",
     "output_type": "stream",
     "text": [
      "Results for z measurements:\n"
     ]
    },
    {
     "data": {
      "text/plain": "<Figure size 504x360 with 1 Axes>",
      "image/png": "[encoded data removed]"
     },
     "execution_count": 37,
     "metadata": {},
     "output_type": "execute_result"
    }
   ],
   "source": [
    "from qiskit.visualization import plot_histogram\n",
    "\n",
    "print('Results for z measurements:')\n",
    "counts = backend.run(qc_charlie.compose(meas_zz)).result().get_counts()\n",
    "plot_histogram(counts)"
   ],
   "metadata": {
    "collapsed": false,
    "pycharm": {
     "name": "#%%\n"
    }
   }
  },
  {
   "cell_type": "markdown",
   "source": [
    "A partir disso, eles fazem a observação de que os qubits nunca resultam 0 em medições `z`.\n",
    "\n",
    "A seguir, vamos ver os resultados de quando Bob realiza uma medição `x` e Alice realiza uma medição `z`."
   ],
   "metadata": {
    "collapsed": false,
    "pycharm": {
     "name": "#%% md\n"
    }
   }
  },
  {
   "cell_type": "code",
   "execution_count": 38,
   "outputs": [
    {
     "name": "stdout",
     "output_type": "stream",
     "text": [
      "Results for a z and an x measurement:\n"
     ]
    },
    {
     "data": {
      "text/plain": "<Figure size 504x360 with 1 Axes>",
      "image/png": "[encoded data removed]"
     },
     "execution_count": 38,
     "metadata": {},
     "output_type": "execute_result"
    }
   ],
   "source": [
    "meas_zx = QuantumCircuit(2,2)\n",
    "meas_zx.h(0)\n",
    "meas_zx.measure([0,1],[0,1])\n",
    "meas_zx.h(0)\n",
    "\n",
    "print('Results for a z and an x measurement:')\n",
    "counts = backend.run(qc_charlie.compose(meas_zx)).result().get_counts()\n",
    "plot_histogram(counts)"
   ],
   "metadata": {
    "collapsed": false,
    "pycharm": {
     "name": "#%%\n"
    }
   }
  },
  {
   "cell_type": "markdown",
   "source": [
    "Nesse caso, descobrimos que os qubits nunca geram ambos 1. O mesmo é verdade quando Bob faz a medição `z` e Alice faz `x`."
   ],
   "metadata": {
    "collapsed": false,
    "pycharm": {
     "name": "#%% md\n"
    }
   }
  },
  {
   "cell_type": "code",
   "execution_count": 39,
   "outputs": [
    {
     "name": "stdout",
     "output_type": "stream",
     "text": [
      "Results for a z and an x measurement:\n"
     ]
    },
    {
     "data": {
      "text/plain": "<Figure size 504x360 with 1 Axes>",
      "image/png": "[encoded data removed]"
     },
     "execution_count": 39,
     "metadata": {},
     "output_type": "execute_result"
    }
   ],
   "source": [
    "meas_xz = QuantumCircuit(2,2)\n",
    "meas_xz.h(0)\n",
    "meas_xz.measure([0,1],[0,1])\n",
    "meas_xz.h(0)\n",
    "\n",
    "print('Results for a z and an x measurement:')\n",
    "counts = backend.run(qc_charlie.compose(meas_xz)).result().get_counts()\n",
    "plot_histogram(counts)"
   ],
   "metadata": {
    "collapsed": false,
    "pycharm": {
     "name": "#%%\n"
    }
   }
  },
  {
   "cell_type": "markdown",
   "source": [
    "Com essas informações, Alice e Bob podem começar a especular sobre o que aconteceria se ambos realizassem uma medição `x`.\n",
    "\n",
    "Eles podem resumir seus resultados até agora nas duas observações a seguir:\n",
    "\n",
    "1. Se as medidas `z` forem feitas em ambos os qubits, eles nunca produzirão 0;\n",
    "2. Se uma medição `x` de um qubit for 1, uma medição `z` do outro será 0 (porque o resultado 11 nunca ocorre nesses casos).\n",
    "\n",
    "Elas correspondem exatamente às observações feitas para as formas coloridas no cenário clássico. Se aplicarmos a mesma lógica que fizemos naquele caso, podemos analisar o caso em que Alice e Bob fazem uma medição de `x`, e ambos obtêm o resultado 1. Bob seria então capaz de aplicar a observação 2 e inferir que Alice certamente teria obtido 0 se, em vez disso, tivesse feito uma medição `z`. Alice pode fazer o mesmo, inferindo que Bob teria obtido 1 se tivesse feito uma medição `z`. Então, juntos, eles concluem que, se ambos tivessem feito medições `z`, ambos teriam obtido a saída 0. Visto que a observação 1 nos mostra que tal resultado seria impossível, Alice e Bob poderiam prever que o resultado 11 nunca ocorrerá.\n",
    "\n",
    "Então, vamos ver se eles estão certos."
   ],
   "metadata": {
    "collapsed": false,
    "pycharm": {
     "name": "#%% md\n"
    }
   }
  },
  {
   "cell_type": "code",
   "execution_count": 40,
   "outputs": [
    {
     "name": "stdout",
     "output_type": "stream",
     "text": [
      "Results for a z and an x measurement:\n"
     ]
    },
    {
     "data": {
      "text/plain": "<Figure size 504x360 with 1 Axes>",
      "image/png": "[encoded data removed]"
     },
     "execution_count": 40,
     "metadata": {},
     "output_type": "execute_result"
    }
   ],
   "source": [
    "meas_xx = QuantumCircuit(2,2)\n",
    "meas_xx.h([0,1])\n",
    "meas_xx.measure([0,1],[0,1])\n",
    "meas_xx.h(0)\n",
    "\n",
    "print('Results for a z and an x measurement:')\n",
    "counts = backend.run(qc_charlie.compose(meas_xx)).result().get_counts()\n",
    "plot_histogram(counts)"
   ],
   "metadata": {
    "collapsed": false,
    "pycharm": {
     "name": "#%%\n"
    }
   }
  },
  {
   "cell_type": "markdown",
   "source": [
    "Errados! O resultado 11 não é provável, mas certamente não é impossível.\n",
    "\n",
    "Os resultados dos qubits não são bem definidos antes da medição. Embora possa parecer que significa que os qubits são mais aleatórios que as variáveis clássicas, nem sempre é uma qualidade negativa. Isso também significa que as restrições aplicadas às variáveis clássicas nem sempre se aplicam aos qubits, e que as correlações quânticas podem ter propriedades que seriam impossíveis classicamente. Essas correlações exclusivas são uma das propriedades de assinatura de estados emaranhados.\n",
    "\n",
    "---\n"
   ],
   "metadata": {
    "collapsed": false,
    "pycharm": {
     "name": "#%% md\n"
    }
   }
  }
 ],
 "metadata": {
  "kernelspec": {
   "display_name": "Python 3",
   "language": "python",
   "name": "python3"
  },
  "language_info": {
   "codemirror_mode": {
    "name": "ipython",
    "version": 2
   },
   "file_extension": ".py",
   "mimetype": "text/x-python",
   "name": "python",
   "nbconvert_exporter": "python",
   "pygments_lexer": "ipython2",
   "version": "2.7.6"
  }
 },
 "nbformat": 4,
 "nbformat_minor": 0
}