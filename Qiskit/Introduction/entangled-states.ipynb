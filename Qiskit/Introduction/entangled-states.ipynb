{
 "cells": [
  {
   "cell_type": "markdown",
   "source": [
    "# Entangled states\n",
    "---\n",
    "\n",
    "## Product and entangled states\n",
    "\n",
    "### Product states\n",
    "\n",
    "Sejam,\n",
    "\n",
    "$$ |a\\rangle = \\begin{bmatrix} a_0 \\\\ a_1 \\end{bmatrix}, \\quad |b\\rangle = \\begin{bmatrix} b_0 \\\\ b_1 \\end{bmatrix}.$$\n",
    "\n",
    "Então o produto $ |ba\\rangle $ é\n",
    "\n",
    "$$ |ba\\rangle = \\begin{bmatrix} b_0a_0 \\\\ b_0a_1 \\\\ b_1a_0 \\\\ b_1a_1 \\end{bmatrix}.$$\n",
    "\n",
    "- Essas regras seguem a probabilidade padrão.\n",
    "- Para calcular a probabilidade do bit mais a direita devemos seguir os seguintes passos:\n",
    "\\begin{matrix}\n",
    "    p_{|a\\rangle}(|0\\rangle) &=& p(|00\\rangle) + p(|10\\rangle) \\\\\n",
    "    &=& (b_0a_0)^2 + (b_1a_0)^2 \\\\\n",
    "    &=& b_0^2 a_0^2 + b_1^2 a_0^2 \\\\\n",
    "    &=& (b_0^2 + b_1^2)\\cdot a_0^2 \\\\\n",
    "    &=& a_0^2\n",
    "\\end{matrix}\n",
    "\n",
    "### Entangled states\n",
    "\n",
    "- Estados emaranhados são aqueles onde não há pares de qubit únicos $|a\\rangle$ e $|b\\rangle$ que formem o produto.\n",
    "- Exemplo:\n",
    "    - $$ |\\Phi^+\\rangle = \\dfrac{1}{\\sqrt{2}} \\cdot \\begin{bmatrix} 1 \\\\ 0\\\\ 0\\\\ 1 \\end{bmatrix} = \\dfrac{1}{\\sqrt{2}}(|00\\rangle + |11\\rangle)$$\n",
    "\n",
    "---\n",
    "## Entangling gates\n",
    "\n",
    "- Para criar emaranhamento, precisamos de portas multi-qubit.\n",
    "\n",
    "### cx gate\n",
    "\n",
    "Para começar vamos criar um estado $|00\\rangle$."
   ],
   "metadata": {
    "collapsed": false,
    "pycharm": {
     "name": "#%% md\n"
    }
   }
  },
  {
   "cell_type": "code",
   "execution_count": 1,
   "outputs": [
    {
     "data": {
      "text/plain": "<IPython.core.display.Latex object>",
      "text/latex": "$$\n\n\\begin{bmatrix}\n1 & 0 & 0 & 0  \\\\\n \\end{bmatrix}\n$$"
     },
     "execution_count": 1,
     "metadata": {},
     "output_type": "execute_result"
    }
   ],
   "source": [
    "from qiskit import QuantumCircuit\n",
    "from qiskit.quantum_info import Statevector\n",
    "\n",
    "qc = QuantumCircuit(2)\n",
    "\n",
    "# This calculates what the state vector of our qubits would be\n",
    "# after passing through the circuit 'qc'\n",
    "ket = Statevector(qc)\n",
    "\n",
    "# The code below writes down the state vector.\n",
    "# Since it's the last line in the cell, the cell will display it as output\n",
    "ket.draw('latex')"
   ],
   "metadata": {
    "collapsed": false,
    "pycharm": {
     "name": "#%%\n"
    }
   }
  },
  {
   "cell_type": "markdown",
   "source": [
    "Essa porta atua em dois qubit, conhecidos como controle e alvo.\n",
    "Vamos tentar usar o qubit 0 como controle e o 1 como alvo, para isso:"
   ],
   "metadata": {
    "collapsed": false,
    "pycharm": {
     "name": "#%% md\n"
    }
   }
  },
  {
   "cell_type": "code",
   "execution_count": 2,
   "outputs": [
    {
     "data": {
      "text/plain": "<IPython.core.display.Latex object>",
      "text/latex": "$$\n\n\\begin{bmatrix}\n1 & 0 & 0 & 0  \\\\\n \\end{bmatrix}\n$$"
     },
     "execution_count": 2,
     "metadata": {},
     "output_type": "execute_result"
    }
   ],
   "source": [
    "qc.cx(0,1)\n",
    "\n",
    "ket = Statevector(qc)\n",
    "ket.draw('latex')"
   ],
   "metadata": {
    "collapsed": false,
    "pycharm": {
     "name": "#%%\n"
    }
   }
  },
  {
   "cell_type": "markdown",
   "source": [
    "A porta não teve efeito, o estado permanece o mesmo.\n",
    "Vamos inverter o alvo com o controle."
   ],
   "metadata": {
    "collapsed": false,
    "pycharm": {
     "name": "#%% md\n"
    }
   }
  },
  {
   "cell_type": "code",
   "execution_count": 3,
   "outputs": [
    {
     "data": {
      "text/plain": "<IPython.core.display.Latex object>",
      "text/latex": "$$\n\n\\begin{bmatrix}\n1 & 0 & 0 & 0  \\\\\n \\end{bmatrix}\n$$"
     },
     "execution_count": 3,
     "metadata": {},
     "output_type": "execute_result"
    }
   ],
   "source": [
    "qc.cx(1,0)\n",
    "\n",
    "ket = Statevector(qc)\n",
    "ket.draw('latex')"
   ],
   "metadata": {
    "collapsed": false,
    "pycharm": {
     "name": "#%%\n"
    }
   }
  },
  {
   "cell_type": "markdown",
   "source": [
    "Ainda sem efeito. Isso era o esperado. Se o controle está no estado $|0\\rangle$ a porta `cx` não faz nada. Caso o controle seja $|1\\rangle$, `cx` insere uma porta `x` no alvo.\n",
    "\n",
    "<p align=\"center\">\n",
    "    <img src=\"https://learn.qiskit.org/content/intro/images/multi-qubit/cnot.svg\" />\n",
    "</p>\n",
    "\n",
    "<div align=\"center\", style=font-size:12px>\n",
    "Fonte:\n",
    "<a href=\"https://learn.qiskit.org/content/intro/images/what-is/amp-vs-prob.svg\">\n",
    "Qiskit\n",
    "</a>\n",
    "</div>\n",
    "\n",
    "Então, se quisermos que `cx` funcione, precisamos inverter o qubit de controle para $|1\\rangle$."
   ],
   "metadata": {
    "collapsed": false,
    "pycharm": {
     "name": "#%% md\n"
    }
   }
  },
  {
   "cell_type": "code",
   "execution_count": 4,
   "outputs": [
    {
     "data": {
      "text/plain": "<IPython.core.display.Latex object>",
      "text/latex": "$$\n\n\\begin{bmatrix}\n0 & 0 & 1 & 0  \\\\\n \\end{bmatrix}\n$$"
     },
     "execution_count": 4,
     "metadata": {},
     "output_type": "execute_result"
    }
   ],
   "source": [
    "qc.x(1,0)\n",
    "\n",
    "ket = Statevector(qc)\n",
    "ket.draw('latex')"
   ],
   "metadata": {
    "collapsed": false,
    "pycharm": {
     "name": "#%%\n"
    }
   }
  },
  {
   "cell_type": "markdown",
   "source": [
    "Agora ao executar `cx` também inverterá o qubit alvo."
   ],
   "metadata": {
    "collapsed": false,
    "pycharm": {
     "name": "#%% md\n"
    }
   }
  },
  {
   "cell_type": "code",
   "execution_count": 5,
   "outputs": [
    {
     "data": {
      "text/plain": "<IPython.core.display.Latex object>",
      "text/latex": "$$\n\n\\begin{bmatrix}\n0 & 0 & 0 & 1  \\\\\n \\end{bmatrix}\n$$"
     },
     "execution_count": 5,
     "metadata": {},
     "output_type": "execute_result"
    }
   ],
   "source": [
    "qc.cx(1,0)\n",
    "\n",
    "ket = Statevector(qc)\n",
    "ket.draw('latex')"
   ],
   "metadata": {
    "collapsed": false,
    "pycharm": {
     "name": "#%%\n"
    }
   }
  },
  {
   "cell_type": "markdown",
   "source": [
    "Ainda não possuímos um emaranhamento. Para isso precisamos que o qubit de controle esteja em um estado de superposição, como $|\\!+\\!0\\rangle$."
   ],
   "metadata": {
    "collapsed": false,
    "pycharm": {
     "name": "#%% md\n"
    }
   }
  },
  {
   "cell_type": "code",
   "execution_count": 6,
   "outputs": [
    {
     "data": {
      "text/plain": "<IPython.core.display.Latex object>",
      "text/latex": "$$\n\n\\begin{bmatrix}\n\\tfrac{1}{\\sqrt{2}} & 0 & \\tfrac{1}{\\sqrt{2}} & 0  \\\\\n \\end{bmatrix}\n$$"
     },
     "execution_count": 6,
     "metadata": {},
     "output_type": "execute_result"
    }
   ],
   "source": [
    "# Let's create a fresh quantum circuit\n",
    "qc = QuantumCircuit(2)\n",
    "\n",
    "qc.h(1)\n",
    "\n",
    "ket = Statevector(qc)\n",
    "ket.draw('latex')"
   ],
   "metadata": {
    "collapsed": false,
    "pycharm": {
     "name": "#%%\n"
    }
   }
  },
  {
   "cell_type": "markdown",
   "source": [
    "Se aplicarmos `cx` agora, atuará em paralelo nos dois estados, $|00\\rangle$ e $|10\\rangle$."
   ],
   "metadata": {
    "collapsed": false,
    "pycharm": {
     "name": "#%% md\n"
    }
   }
  },
  {
   "cell_type": "code",
   "execution_count": 7,
   "outputs": [
    {
     "data": {
      "text/plain": "<IPython.core.display.Latex object>",
      "text/latex": "$$\n\n\\begin{bmatrix}\n\\tfrac{1}{\\sqrt{2}} & 0 & 0 & \\tfrac{1}{\\sqrt{2}}  \\\\\n \\end{bmatrix}\n$$"
     },
     "execution_count": 7,
     "metadata": {},
     "output_type": "execute_result"
    }
   ],
   "source": [
    "qc.cx(1,0)\n",
    "\n",
    "ket = Statevector(qc)\n",
    "ket.draw('latex')"
   ],
   "metadata": {
    "collapsed": false,
    "pycharm": {
     "name": "#%%\n"
    }
   }
  },
  {
   "cell_type": "markdown",
   "source": [
    "O resultado é $|\\Phi^+\\rangle$, um estado emaranhado.\n",
    "\n",
    "### cz gate\n",
    "\n"
   ],
   "metadata": {
    "collapsed": false,
    "pycharm": {
     "name": "#%% md\n"
    }
   }
  }
 ],
 "metadata": {
  "kernelspec": {
   "display_name": "Python 3",
   "language": "python",
   "name": "python3"
  },
  "language_info": {
   "codemirror_mode": {
    "name": "ipython",
    "version": 2
   },
   "file_extension": ".py",
   "mimetype": "text/x-python",
   "name": "python",
   "nbconvert_exporter": "python",
   "pygments_lexer": "ipython2",
   "version": "2.7.6"
  }
 },
 "nbformat": 4,
 "nbformat_minor": 0
}