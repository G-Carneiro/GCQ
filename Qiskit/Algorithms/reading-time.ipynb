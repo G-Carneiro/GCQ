{
 "cells": [
  {
   "cell_type": "markdown",
   "source": [
    "\\begin{array}{|c|c|}\n",
    "    \\hline\n",
    "    \\text{Capítulo} & \\text{Qiskit} & \\text{Real Time} \\\\\n",
    "    \\hline\n",
    "    \\text{Deutsch-Jozsa Algorithm} & 35 & 90 \\\\\n",
    "    \\hline\n",
    "\\end{array}"
   ],
   "metadata": {
    "collapsed": false
   }
  }
 ],
 "metadata": {
  "kernelspec": {
   "display_name": "Python 3",
   "language": "python",
   "name": "python3"
  },
  "language_info": {
   "codemirror_mode": {
    "name": "ipython",
    "version": 2
   },
   "file_extension": ".py",
   "mimetype": "text/x-python",
   "name": "python",
   "nbconvert_exporter": "python",
   "pygments_lexer": "ipython2",
   "version": "2.7.6"
  }
 },
 "nbformat": 4,
 "nbformat_minor": 0
}