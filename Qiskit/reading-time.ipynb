{
 "cells": [
  {
   "cell_type": "markdown",
   "metadata": {
    "collapsed": true,
    "pycharm": {
     "name": "#%% md\n"
    }
   },
   "source": [
    "\\begin{array}{|c|c|}\n",
    "    \\hline\n",
    "    \\text{Curso} & \\text{Capítulo} & \\text{Qiskit} & \\text{Real Time} \\\\\n",
    "    \\hline\n",
    "    & \\text{Why quantum computing?} & 30 \\\\\n",
    "    \\hline\n",
    "    & \\text{The atoms of computation} & 50 \\\\\n",
    "    \\hline\n",
    "    & \\text{What is quantum?} & 45 & 120 \\\\\n",
    "    \\hline\n",
    "    & \\text{Describing quantum computers} & 25 & 40\\\\\n",
    "    \\hline\n",
    "    & \\text{Entangled states} & 65 & 250 \\\\\n",
    "    \\hline\n",
    "    & \\text{Visualizing entanglement} & 50 & 70 \\\\\n",
    "    \\hline\n",
    "\\end{array}\n"
   ]
  }
 ],
 "metadata": {
  "kernelspec": {
   "display_name": "Python 3",
   "language": "python",
   "name": "python3"
  },
  "language_info": {
   "codemirror_mode": {
    "name": "ipython",
    "version": 2
   },
   "file_extension": ".py",
   "mimetype": "text/x-python",
   "name": "python",
   "nbconvert_exporter": "python",
   "pygments_lexer": "ipython2",
   "version": "2.7.6"
  }
 },
 "nbformat": 4,
 "nbformat_minor": 0
}