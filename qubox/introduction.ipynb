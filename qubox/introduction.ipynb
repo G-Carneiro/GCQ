{
 "cells": [
  {
   "cell_type": "markdown",
   "metadata": {
    "collapsed": true,
    "pycharm": {
     "name": "#%% md\n"
    }
   },
   "source": [
    "# Introdução à Computação Quântica\n",
    "\n",
    "---\n",
    "\n",
    "## Comparação com Computação Clássica\n",
    "\n",
    "### Entradas e Saídas\n",
    "\n",
    "- Clássica: portas podem ter diferentes números de bits entrando e saindo.\n",
    "    - Exemplo: a porta AND possui dois ou mais bits de entrada e apenas um de saída.\n",
    "- Quântica: portas possuem mesmo número de qubits na entrada e na saída.\n",
    "\n",
    "### Reversibilidade\n",
    "\n",
    "- Clássica: a maioria das portas clássicas não são reversíveis, isto é, dado uma saída não conseguimos identificar quais foram as entradas.\n",
    "    - Exemplo: na porta OR de dois bits podemos obter 1 como saída em três casos, são eles: 1 OR 1, 1 OR 0 e 0 OR 1. Sabendo que a saída foi 1 não é possível identificar qual/quais bits eram 1.\n",
    "- Quântica: seus circuitos são reversíveis, isso ocorre, pois, seus operadores são unitários.\n",
    "    - Observação: a medição dos qubits é um processo irreversível.\n",
    "\n",
    "## O que é um qubit?\n",
    "\n",
    "O qubit é um bit quântico.\n",
    "O bit clássico sempre está em 0 ou 1, já um qubit pode estar em ambos em simultâneo, chamamos esse fenômeno de superposição.\n",
    "Para representar um qubit utilizamos a notação _braket_:\n",
    "\n",
    "$$\n",
    "    \\left | \\psi \\right > = \\begin{bmatrix} a \\\\ b \\end{bmatrix} = a \\left| 0 \\right> + b \\left| 1 \\right>\n",
    "$$\n",
    "onde $|a|^2 + |b|^2 = 1$ e $a, b \\in \\mathbb{C}$.\n",
    "\n",
    "## Esfera de Bloch\n"
   ]
  },
  {
   "cell_type": "markdown",
   "source": [],
   "metadata": {
    "collapsed": false,
    "pycharm": {
     "name": "#%% md\n"
    }
   }
  }
 ],
 "metadata": {
  "kernelspec": {
   "display_name": "Python 3",
   "language": "python",
   "name": "python3"
  },
  "language_info": {
   "codemirror_mode": {
    "name": "ipython",
    "version": 2
   },
   "file_extension": ".py",
   "mimetype": "text/x-python",
   "name": "python",
   "nbconvert_exporter": "python",
   "pygments_lexer": "ipython2",
   "version": "2.7.6"
  }
 },
 "nbformat": 4,
 "nbformat_minor": 0
}